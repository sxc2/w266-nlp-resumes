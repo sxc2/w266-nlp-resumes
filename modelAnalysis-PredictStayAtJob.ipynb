{
 "cells": [
  {
   "cell_type": "markdown",
   "metadata": {},
   "source": [
    "## Resume EDA\n",
    "#### Resumes (300MB)\n",
    "\n",
    "\n",
    "\n",
    "### Methodology\n",
    "\n",
    "\n",
    "#### 1 <a href='#setup'>Initial Setup</a>\n",
    "\n",
    "#### 2. <a href='#eda'>Exploratory Analysis</a>\n",
    "- 2.0 <a href='#eda'>Cleaning Data</a>    \n",
    "#### 2. <a href='#future'>Future Extensions</a>\n",
    "\n"
   ]
  },
  {
   "cell_type": "markdown",
   "metadata": {},
   "source": [
    "<a id=\"setup\"></a>\n",
    "## Setup\n",
    "\n",
    "Let's import the serialized data\n",
    "\n"
   ]
  },
  {
   "cell_type": "code",
   "execution_count": 1,
   "metadata": {},
   "outputs": [],
   "source": [
    "# This tells matplotlib not to try opening a new window for each plot.\n",
    "%matplotlib inline\n",
    "\n",
    "# General libraries\n",
    "import re\n",
    "import string\n",
    "import itertools\n",
    "import numpy as np\n",
    "import pandas as pd\n",
    "import matplotlib.pyplot as plt\n",
    "import seaborn as sns\n",
    "import os, json\n",
    "import unicodedata\n",
    "from collections import Counter\n",
    "\n",
    "# NLTK library for stop word removal\n",
    "from nltk.corpus import stopwords\n",
    "\n",
    "# SK-learn libraries for learning.\n",
    "from sklearn.neighbors import KNeighborsClassifier\n",
    "from sklearn.linear_model import LogisticRegression\n",
    "from sklearn.naive_bayes import BernoulliNB\n",
    "from sklearn.naive_bayes import MultinomialNB\n",
    "\n",
    "# SK-learn libraries for evaluation.\n",
    "from sklearn.metrics import confusion_matrix\n",
    "from sklearn import metrics\n",
    "from sklearn.metrics import classification_report\n",
    "\n",
    "from sklearn.feature_extraction.text import CountVectorizer\n",
    "from sklearn.feature_extraction.text import TfidfVectorizer\n",
    "from sklearn.feature_extraction.text import TfidfTransformer\n",
    "\n",
    "\n",
    "from sklearn.model_selection import GridSearchCV\n",
    "from sklearn.pipeline import Pipeline\n",
    "\n",
    "from sklearn.metrics import log_loss\n",
    "\n",
    "from xml.dom import minidom\n",
    "from bs4 import BeautifulSoup as BS\n",
    "\n",
    "\n"
   ]
  },
  {
   "cell_type": "code",
   "execution_count": 2,
   "metadata": {},
   "outputs": [],
   "source": [
    "import pickle\n",
    "import sys\n",
    "\n",
    "sys.setrecursionlimit(20000)\n",
    "train_xml_ = pickle.load( open( \"data/train_1_xml.p\", \"rb\" ) )"
   ]
  },
  {
   "cell_type": "code",
   "execution_count": 3,
   "metadata": {},
   "outputs": [],
   "source": [
    "train_xml_ = pd.DataFrame(train_xml_)\n",
    "\n",
    "# shuffle the training data to get rid of implicit order biases\n",
    "train_data_original = train_xml_.sample(frac = 1)\n",
    "train_data_original = train_data_original.reset_index()\n"
   ]
  },
  {
   "cell_type": "code",
   "execution_count": 4,
   "metadata": {},
   "outputs": [
    {
     "data": {
      "text/html": [
       "<div>\n",
       "<style scoped>\n",
       "    .dataframe tbody tr th:only-of-type {\n",
       "        vertical-align: middle;\n",
       "    }\n",
       "\n",
       "    .dataframe tbody tr th {\n",
       "        vertical-align: top;\n",
       "    }\n",
       "\n",
       "    .dataframe thead th {\n",
       "        text-align: right;\n",
       "    }\n",
       "</style>\n",
       "<table border=\"1\" class=\"dataframe\">\n",
       "  <thead>\n",
       "    <tr style=\"text-align: right;\">\n",
       "      <th></th>\n",
       "      <th>index</th>\n",
       "    </tr>\n",
       "  </thead>\n",
       "  <tbody>\n",
       "    <tr>\n",
       "      <th>count</th>\n",
       "      <td>44397.000000</td>\n",
       "    </tr>\n",
       "    <tr>\n",
       "      <th>mean</th>\n",
       "      <td>22198.000000</td>\n",
       "    </tr>\n",
       "    <tr>\n",
       "      <th>std</th>\n",
       "      <td>12816.454287</td>\n",
       "    </tr>\n",
       "    <tr>\n",
       "      <th>min</th>\n",
       "      <td>0.000000</td>\n",
       "    </tr>\n",
       "    <tr>\n",
       "      <th>25%</th>\n",
       "      <td>11099.000000</td>\n",
       "    </tr>\n",
       "    <tr>\n",
       "      <th>50%</th>\n",
       "      <td>22198.000000</td>\n",
       "    </tr>\n",
       "    <tr>\n",
       "      <th>75%</th>\n",
       "      <td>33297.000000</td>\n",
       "    </tr>\n",
       "    <tr>\n",
       "      <th>max</th>\n",
       "      <td>44396.000000</td>\n",
       "    </tr>\n",
       "  </tbody>\n",
       "</table>\n",
       "</div>"
      ],
      "text/plain": [
       "              index\n",
       "count  44397.000000\n",
       "mean   22198.000000\n",
       "std    12816.454287\n",
       "min        0.000000\n",
       "25%    11099.000000\n",
       "50%    22198.000000\n",
       "75%    33297.000000\n",
       "max    44396.000000"
      ]
     },
     "execution_count": 4,
     "metadata": {},
     "output_type": "execute_result"
    }
   ],
   "source": [
    "train_data_original.describe()"
   ]
  },
  {
   "cell_type": "code",
   "execution_count": 5,
   "metadata": {},
   "outputs": [],
   "source": [
    "# Lowercase the text\n",
    "train_data_original['data'] = train_data_original['data'].apply(lambda x: x.lower())\n",
    "\n",
    "# Attempt to remove css that is encased between {| and |\n",
    "#train_data_original['data'] = train_data_original['data'].apply(lambda x: re.sub(re.compile('{|.*?|'),'',x))\n",
    "\n",
    "# Removing line breaks\n",
    "#train_data_original['data'] = train_data_original['data'].map(lambda x: x.splitlines()).astype(str)\n",
    "\n",
    "# Remove html tags in <>\n",
    "#train_data_original['data'] = train_data_original['data'].apply(lambda x: re.sub(re.compile('<.*?>'),'',x))\n",
    "\n",
    "# Remove content in curly braces {}, which include entities and more css\n",
    "#train_data_original['data'] = train_data_original['data'].apply(lambda x: re.sub(re.compile('{.*?}'),'',x))\n",
    "\n",
    "# Remove indicators in HTML\n",
    "train_data_original['data'] = train_data_original['data'].str.replace('itemprop=\"worksfor\"',' ')\n",
    "train_data_original['data'] = train_data_original['data'].str.replace('itemtype=\"http://schema.org/organization\"',' ')\n",
    "train_data_original['data'] = train_data_original['data'].str.replace('itemscope',' ')\n",
    "train_data_original['data'] = train_data_original['data'].str.replace('present',' ')\n",
    "\n",
    "train_data_original['plain_data'] = train_data_original['data'].apply(lambda x: re.sub('<[^<]+?>', '', x))\n",
    "\n"
   ]
  },
  {
   "cell_type": "code",
   "execution_count": 6,
   "metadata": {},
   "outputs": [
    {
     "name": "stdout",
     "output_type": "stream",
     "text": [
      "<div class=\"vcard single_form-content\" id=\"resume_body\">\n",
      "<div class=\"last basicinfo-content\" id=\"basic_info_row\"><div class=\"data_display\" id=\"basic_info_cell\">\n",
      "<h1 class=\"fn \" id=\"resume-contact\" itemprop=\"name\">child care worker</h1>\n",
      "<div id=\"contact_info_container\">\n",
      "<div class=\"adr\" itemprop=\"address\"  =\"\" itemtype=\"http://schema.org/postaladdress\"><p class=\"locality\" id=\"headline_location\" itemprop=\"addresslocality\">arcola, tx</p></div>\n",
      "<div class=\"separator-hyphen\">-</div>\n",
      "</div>\n",
      "</div></div>\n",
      "<div class=\"section-item workexperience-content\">\n",
      "<div><div class=\"section_title\"><h2>work experience</h2></div></div>\n",
      "<div class=\"items-container\" id=\"work-experience-items\">\n",
      "<div class=\"work-experience-section \" id=\"workexperience-eeynhzewuma12slhbgsw1q\"><div class=\"data_display\">\n",
      "<p class=\"work_title title\">child care worker</p>\n",
      "<div class=\"work_company\"    =\"\"  >\n",
      "<span class=\"bold\" itemprop=\"name\">the kensington school</span> <div class=\"separator-hyphen\">-</div> <div class=\"inline-block\" itemprop=\"address\"  =\"\" itemtype=\"http://schema.org/postaladdress\"><span itemprop=\"addresslocality\">richmond, tx</span></div>\n",
      "</div>\n",
      "<div class=\"separator-hyphen\">-</div>\n",
      "october 2015\n",
      "<p class=\"work_description\">assistant teacher</p>\n",
      "</div></div>\n",
      "<div class=\"work-experience-section \" id=\"workexperience-eevuljsa2_ygzln7osniyg\"><div class=\"data_display\">\n",
      "<p class=\"work_title title\">child care worker</p>\n",
      "<div class=\"work_company\"><span class=\"bold\">kids r kids learning academy</span></div>\n",
      "<div class=\"separator-hyphen\">-</div>\n",
      "<p class=\"work_dates\">2015 to 2015</p>\n",
      "</div></div>\n",
      "<div class=\"work-experience-section last\" id=\"workexperience-eevulldgaeegzln7osniyg\"><div class=\"data_display\">\n",
      "<p class=\"work_title title\">nanny</p>\n",
      "<div class=\"work_company\"><span class=\"bold\">from home</span></div>\n",
      "<div class=\"separator-hyphen\">-</div>\n",
      "<p class=\"work_dates\">2014 to 2015</p>\n",
      "</div></div>\n",
      "</div>\n",
      "</div>\n",
      "<div class=\"section-item education-content\">\n",
      "<div><div class=\"section_title\"><h2>education</h2></div></div>\n",
      "<div class=\"items-container\" id=\"education-items\"><div class=\"education-section last\" id=\"education-eevulmxrgjwgrgxatb0mla\"><div class=\"data_display\" itemprop=\"alumniof\"  =\"\" itemtype=\"http://schema.org/educationalorganization\">\n",
      "<p class=\"edu_title\">high school or equivalent</p>\n",
      "<div class=\"edu_school\"><span class=\"bold\" itemprop=\"name\">hcc</span></div>\n",
      "</div></div></div>\n",
      "</div>\n",
      "</div>\n",
      "\n",
      "\n",
      "child care worker\n",
      "\n",
      "arcola, tx\n",
      "-\n",
      "\n",
      "\n",
      "\n",
      "work experience\n",
      "\n",
      "\n",
      "child care worker\n",
      "\n",
      "the kensington school - richmond, tx\n",
      "\n",
      "-\n",
      "october 2015\n",
      "assistant teacher\n",
      "\n",
      "\n",
      "child care worker\n",
      "kids r kids learning academy\n",
      "-\n",
      "2015 to 2015\n",
      "\n",
      "\n",
      "nanny\n",
      "from home\n",
      "-\n",
      "2014 to 2015\n",
      "\n",
      "\n",
      "\n",
      "\n",
      "education\n",
      "\n",
      "high school or equivalent\n",
      "hcc\n",
      "\n",
      "\n",
      "\n"
     ]
    }
   ],
   "source": [
    "print(train_data_original['data'][0])\n",
    "print(train_data_original['plain_data'][0])\n",
    "# print(train_data_original['data'][1])\n",
    "# print(train_data_original['data'][2])"
   ]
  },
  {
   "cell_type": "markdown",
   "metadata": {},
   "source": [
    "### Questions to Explore\n",
    "\n",
    "\n",
    "- How many folks (%) have no previous experience?\n",
    "- How many jobs do folks have on average?\n",
    "- What is the average length of resume?"
   ]
  },
  {
   "cell_type": "code",
   "execution_count": 7,
   "metadata": {},
   "outputs": [
    {
     "name": "stdout",
     "output_type": "stream",
     "text": [
      "Resume Average Char Length: 5982.0\n",
      "Resume Median Char Length: 5341.0\n",
      "Resume Variance Char Length: 3452.7\n",
      "Resume Min Char Length: 957\n",
      "Resume Max Char Length: 79399\n"
     ]
    },
    {
     "data": {
      "image/png": "[encoded data removed]",
      "text/plain": [
       "<Figure size 576x432 with 1 Axes>"
      ]
     },
     "metadata": {},
     "output_type": "display_data"
    }
   ],
   "source": [
    "comment_length = train_data_original['data'].str.len()\n",
    "\n",
    "plt.figure(figsize=(8,6))\n",
    "plt.title(\"Resume Field String Length Histogram\")\n",
    "plt.ylabel('Number of Occurrences', fontsize = 12)\n",
    "plt.xlabel('Number of Characters', fontsize = 12)\n",
    "plt.grid(True)\n",
    "\n",
    "counts, bins, bars = plt.hist(comment_length, alpha = 0.75)\n",
    "\n",
    "print('Resume Average Char Length: ' + str(round(comment_length.mean(), 1)))\n",
    "print('Resume Median Char Length: ' + str(round(comment_length.median(), 1)))\n",
    "print('Resume Variance Char Length: ' + str(round(comment_length.std(), 1)))\n",
    "print('Resume Min Char Length: ' + str(round(comment_length.min(), 1)))\n",
    "print('Resume Max Char Length: ' + str(round(comment_length.max(), 1)))\n"
   ]
  },
  {
   "cell_type": "markdown",
   "metadata": {},
   "source": [
    "### Predictor Variables EDA"
   ]
  },
  {
   "cell_type": "code",
   "execution_count": 7,
   "metadata": {},
   "outputs": [],
   "source": [
    "predictors = [];\n",
    "\n",
    "for i in range(len(train_data_original)):\n",
    "    predictors.append(train_data_original['predictions'][i])\n",
    "    \n",
    "predictors_ = pd.DataFrame(predictors)\n"
   ]
  },
  {
   "cell_type": "code",
   "execution_count": null,
   "metadata": {},
   "outputs": [],
   "source": []
  },
  {
   "cell_type": "code",
   "execution_count": 8,
   "metadata": {},
   "outputs": [
    {
     "data": {
      "text/html": [
       "<div>\n",
       "<style scoped>\n",
       "    .dataframe tbody tr th:only-of-type {\n",
       "        vertical-align: middle;\n",
       "    }\n",
       "\n",
       "    .dataframe tbody tr th {\n",
       "        vertical-align: top;\n",
       "    }\n",
       "\n",
       "    .dataframe thead th {\n",
       "        text-align: right;\n",
       "    }\n",
       "</style>\n",
       "<table border=\"1\" class=\"dataframe\">\n",
       "  <thead>\n",
       "    <tr style=\"text-align: right;\">\n",
       "      <th></th>\n",
       "      <th>work_company</th>\n",
       "      <th>work_stayed</th>\n",
       "      <th>work_title</th>\n",
       "    </tr>\n",
       "  </thead>\n",
       "  <tbody>\n",
       "    <tr>\n",
       "      <th>count</th>\n",
       "      <td>44397</td>\n",
       "      <td>44397</td>\n",
       "      <td>44397</td>\n",
       "    </tr>\n",
       "    <tr>\n",
       "      <th>unique</th>\n",
       "      <td>36752</td>\n",
       "      <td>2</td>\n",
       "      <td>23999</td>\n",
       "    </tr>\n",
       "    <tr>\n",
       "      <th>top</th>\n",
       "      <td>Walmart</td>\n",
       "      <td>True</td>\n",
       "      <td>Cashier</td>\n",
       "    </tr>\n",
       "    <tr>\n",
       "      <th>freq</th>\n",
       "      <td>321</td>\n",
       "      <td>25435</td>\n",
       "      <td>568</td>\n",
       "    </tr>\n",
       "  </tbody>\n",
       "</table>\n",
       "</div>"
      ],
      "text/plain": [
       "       work_company work_stayed work_title\n",
       "count         44397       44397      44397\n",
       "unique        36752           2      23999\n",
       "top         Walmart        True    Cashier\n",
       "freq            321       25435        568"
      ]
     },
     "execution_count": 8,
     "metadata": {},
     "output_type": "execute_result"
    }
   ],
   "source": [
    "predictors_.describe()"
   ]
  },
  {
   "cell_type": "code",
   "execution_count": 10,
   "metadata": {},
   "outputs": [
    {
     "data": {
      "text/plain": [
       "'The Kensington school'"
      ]
     },
     "execution_count": 10,
     "metadata": {},
     "output_type": "execute_result"
    }
   ],
   "source": [
    "predictors_['work_company'][0]"
   ]
  },
  {
   "cell_type": "code",
   "execution_count": 11,
   "metadata": {},
   "outputs": [
    {
     "data": {
      "text/plain": [
       "36752"
      ]
     },
     "execution_count": 11,
     "metadata": {},
     "output_type": "execute_result"
    }
   ],
   "source": [
    "len(predictors_['work_company'].unique())"
   ]
  },
  {
   "cell_type": "code",
   "execution_count": 12,
   "metadata": {},
   "outputs": [],
   "source": [
    "# Lowercase the text\n",
    "predictors_['work_company'] = predictors_['work_company'].apply(lambda x: x.lower())\n",
    "\n",
    "# Attempt to remove css that is encased between {| and |\n",
    "predictors_['work_company'] = predictors_['work_company'].apply(lambda x: re.sub(re.compile('{|.*?|'),'',x))\n",
    "\n",
    "# Removing line breaks\n",
    "predictors_['work_company'] = predictors_['work_company'].map(lambda x: x.splitlines()).astype(str)\n",
    "\n",
    "# Remove html tags in <>\n",
    "predictors_['work_company'] = predictors_['work_company'].apply(lambda x: re.sub(re.compile('<.*?>'),'',x))\n",
    "\n",
    "# Remove content in curly braces {}, which include entities and more css\n",
    "predictors_['work_company'] = predictors_['work_company'].apply(lambda x: re.sub(re.compile('{.*?}'),'',x))\n",
    "\n",
    "# Remove punctuation\n",
    "predictors_['work_company'] = predictors_['work_company'].str.replace('[^\\w\\s]','')\n",
    "\n",
    "# Remove Special Characters\n",
    "predictors_['work_company'] = predictors_['work_company'].str.replace('[^a-zA-Z ]',' ')"
   ]
  },
  {
   "cell_type": "code",
   "execution_count": 13,
   "metadata": {},
   "outputs": [
    {
     "name": "stdout",
     "output_type": "stream",
     "text": [
      "35411\n",
      "Drive Test Engineer\n",
      "23999\n"
     ]
    }
   ],
   "source": [
    "print(len(predictors_['work_company'].unique()))\n",
    "print(predictors_['work_title'][0])\n",
    "print(len(predictors_['work_title'].unique()))"
   ]
  },
  {
   "cell_type": "code",
   "execution_count": null,
   "metadata": {},
   "outputs": [],
   "source": []
  },
  {
   "cell_type": "code",
   "execution_count": null,
   "metadata": {},
   "outputs": [],
   "source": []
  },
  {
   "cell_type": "code",
   "execution_count": 14,
   "metadata": {},
   "outputs": [],
   "source": [
    "# Lowercase the text\n",
    "\n",
    "predictors_['work_title'] = predictors_['work_title'].apply(lambda x: x.lower())\n",
    "predictors_['work_title'] = predictors_['work_title'].str.replace('[/]',' ')\n",
    "\n",
    "# Attempt to remove css that is encased between {| and |\n",
    "predictors_['work_title'] = predictors_['work_title'].apply(lambda x: re.sub(re.compile('{|.*?|'),'',x))\n",
    "\n",
    "# Removing line breaks\n",
    "predictors_['work_title'] = predictors_['work_title'].map(lambda x: x.splitlines()).astype(str)\n",
    "\n",
    "# Remove html tags in <>\n",
    "predictors_['work_title'] = predictors_['work_title'].apply(lambda x: re.sub(re.compile('<.*?>'),'',x))\n",
    "\n",
    "# Remove content in curly braces {}, which include entities and more css\n",
    "predictors_['work_title'] = predictors_['work_title'].apply(lambda x: re.sub(re.compile('{.*?}'),'',x))\n",
    "\n",
    "# Remove punctuation\n",
    "predictors_['work_title'] = predictors_['work_title'].str.replace('[^\\w\\s]','')\n",
    "\n",
    "# Remove Special Characters\n",
    "predictors_['work_title'] = predictors_['work_title'].str.replace('[^a-zA-Z ]',' ')"
   ]
  },
  {
   "cell_type": "code",
   "execution_count": 15,
   "metadata": {},
   "outputs": [
    {
     "name": "stdout",
     "output_type": "stream",
     "text": [
      "22638\n",
      "consumer loan underwriter\n",
      "False\n"
     ]
    }
   ],
   "source": [
    "print(len(predictors_['work_title'].unique()))\n",
    "print(predictors_['work_title'][4])\n",
    "print(predictors_['work_stayed'][0])"
   ]
  },
  {
   "cell_type": "code",
   "execution_count": null,
   "metadata": {},
   "outputs": [],
   "source": []
  },
  {
   "cell_type": "code",
   "execution_count": null,
   "metadata": {},
   "outputs": [],
   "source": []
  },
  {
   "cell_type": "markdown",
   "metadata": {},
   "source": [
    "### Potential Interesting Features\n",
    "\n",
    "- whether or not you're going to stay at the same job\n",
    "- whether you're going into a different job function\n",
    "- whether you're going to stay at the same company\n",
    "- whether you're going get promoted?\n",
    "\n",
    "- level of candidate\n",
    "- classification of candidate\n",
    "- diversity?\n",
    "\n",
    "- skills overlap between current and last job\n"
   ]
  },
  {
   "cell_type": "code",
   "execution_count": 9,
   "metadata": {},
   "outputs": [
    {
     "name": "stdout",
     "output_type": "stream",
     "text": [
      "11099\n"
     ]
    }
   ],
   "source": [
    "len_ = int(len(train_data_original)/4)\n",
    "print(len_)\n",
    "train_data_ = train_data_original[len_:]\n",
    "test_data_ = train_data_original[:len_]\n",
    "\n",
    "predictors_train_ = predictors_[len_:]\n",
    "predictors_test = predictors_[:len_]\n",
    "\n",
    "model_results = []\n"
   ]
  },
  {
   "cell_type": "code",
   "execution_count": 11,
   "metadata": {},
   "outputs": [],
   "source": [
    "vectorizer_train = TfidfVectorizer(sublinear_tf = True, lowercase = True)\n",
    "train_fit = vectorizer_train.fit(train_data_['data'])\n",
    "train_transformed = vectorizer_train.transform(train_data_['data'])\n",
    "dev_transformed = vectorizer_train.transform(test_data_['data'])\n",
    "logis_regression = LogisticRegression()\n",
    "logis_regression.fit(train_transformed, predictors_train_['work_stayed'].astype(int))\n",
    "pred = logis_regression.predict_proba(dev_transformed)\n",
    "f1score_logis = logis_regression.score(dev_transformed, predictors_test['work_stayed'].astype(int)) \n",
    "accuracy = round(f1score_logis, 6)\n",
    "log_loss_ = round(log_loss(predictors_test['work_stayed'].astype(int), pred), 6)\n",
    "\n",
    "model_results.append({\"accuracy\" : accuracy, \"name\" : \"TFIDF HTML - Predict Stay at Job\", \"log_loss\": log_loss_})\n"
   ]
  },
  {
   "cell_type": "code",
   "execution_count": 12,
   "metadata": {},
   "outputs": [
    {
     "name": "stdout",
     "output_type": "stream",
     "text": [
      "Accuracy: 0.756735\n",
      "Log Loss: 0.520343\n"
     ]
    }
   ],
   "source": [
    "print(\"Accuracy: \" + str(accuracy))\n",
    "print(\"Log Loss: \" + str(log_loss_))"
   ]
  },
  {
   "cell_type": "code",
   "execution_count": 13,
   "metadata": {},
   "outputs": [],
   "source": [
    "vectorizer_train_plain = TfidfVectorizer(sublinear_tf = True, lowercase = True)\n",
    "train_fit_plain = vectorizer_train_plain.fit(train_data_['plain_data'])\n",
    "train_transformed_plain = vectorizer_train_plain.transform(train_data_['plain_data'])\n",
    "dev_transformed_plain = vectorizer_train_plain.transform(test_data_['plain_data'])\n",
    "\n",
    "logis_regression_plain = LogisticRegression()\n",
    "logis_regression_plain.fit(train_transformed_plain, predictors_train_['work_stayed'].astype(int))\n",
    "pred_plain = logis_regression_plain.predict_proba(dev_transformed_plain)\n",
    "\n",
    "f1score_logis = logis_regression_plain.score(dev_transformed_plain, predictors_test['work_stayed'].astype(int))\n",
    "\n",
    "accuracy = round(f1score_logis, 6)\n",
    "log_loss_ = round(log_loss(predictors_test['work_stayed'].astype(int), pred_plain), 6)\n",
    "\n",
    "model_results.append({\"accuracy\" : accuracy, \"name\" : \"TFIDF Plain Text - Predict Stay at Job\", \"log_loss\": log_loss_})\n"
   ]
  },
  {
   "cell_type": "code",
   "execution_count": 14,
   "metadata": {},
   "outputs": [
    {
     "name": "stdout",
     "output_type": "stream",
     "text": [
      "Accuracy: 0.650149\n",
      "Log Loss: 0.623826\n"
     ]
    }
   ],
   "source": [
    "print(\"Accuracy: \" + str(accuracy))\n",
    "print(\"Log Loss: \" + str(log_loss_))"
   ]
  },
  {
   "cell_type": "code",
   "execution_count": null,
   "metadata": {},
   "outputs": [],
   "source": [
    "\n"
   ]
  },
  {
   "cell_type": "code",
   "execution_count": 15,
   "metadata": {},
   "outputs": [
    {
     "data": {
      "text/plain": [
       "[{'accuracy': 0.756735,\n",
       "  'name': 'TFIDF HTML - Predict Stay at Job',\n",
       "  'log_loss': 0.520343},\n",
       " {'accuracy': 0.650149,\n",
       "  'name': 'TFIDF Plain Text - Predict Stay at Job',\n",
       "  'log_loss': 0.623826}]"
      ]
     },
     "execution_count": 15,
     "metadata": {},
     "output_type": "execute_result"
    }
   ],
   "source": [
    "model_results"
   ]
  },
  {
   "cell_type": "code",
   "execution_count": 16,
   "metadata": {},
   "outputs": [],
   "source": [
    "# http://scikit-learn.org/stable/auto_examples/model_selection/plot_confusion_matrix.html\n",
    "def plot_confusion_matrix(cm, classes,\n",
    "                          normalize=False,\n",
    "                          title='Confusion matrix',\n",
    "                          cmap=plt.cm.Blues):\n",
    "    \"\"\"\n",
    "    This function prints and plots the confusion matrix.\n",
    "    Normalization can be applied by setting `normalize=True`.\n",
    "    \"\"\"\n",
    "    if normalize:\n",
    "        cm = cm.astype('float') / cm.sum(axis=1)[:, np.newaxis]\n",
    "\n",
    "    plt.imshow(cm, interpolation='nearest', cmap=cmap)\n",
    "    plt.title(title)\n",
    "    plt.colorbar()\n",
    "    tick_marks = np.arange(len(classes))\n",
    "    plt.xticks(tick_marks, classes, rotation=45)\n",
    "    plt.yticks(tick_marks, classes)\n",
    "\n",
    "    fmt = '.2f' if normalize else 'd'\n",
    "    thresh = cm.max() / 2.\n",
    "    for i, j in itertools.product(range(cm.shape[0]), range(cm.shape[1])):\n",
    "        plt.text(j, i, format(cm[i, j], fmt),\n",
    "                 horizontalalignment=\"center\",\n",
    "                 color=\"white\" if cm[i, j] > thresh else \"black\")\n",
    "\n",
    "    plt.ylabel('True label')\n",
    "    plt.xlabel('Predicted label')\n",
    "    plt.tight_layout()\n",
    "    "
   ]
  },
  {
   "cell_type": "code",
   "execution_count": 17,
   "metadata": {},
   "outputs": [
    {
     "data": {
      "image/png": "[encoded data removed]",
      "text/plain": [
       "<Figure size 432x288 with 2 Axes>"
      ]
     },
     "metadata": {},
     "output_type": "display_data"
    },
    {
     "data": {
      "image/png": "[encoded data removed]",
      "text/plain": [
       "<Figure size 432x288 with 2 Axes>"
      ]
     },
     "metadata": {},
     "output_type": "display_data"
    }
   ],
   "source": [
    "correct_values = predictors_test['work_stayed'].astype(int)\n",
    "logis_regression_pred = logis_regression.predict(dev_transformed) \n",
    "\n",
    "confusion_mat = confusion_matrix(correct_values, logis_regression_pred)\n",
    "\n",
    "np.set_printoptions(precision=2)\n",
    "\n",
    "# Plot non-normalized confusion matrix\n",
    "plt.figure()\n",
    "plot_confusion_matrix(confusion_mat, classes=[0,1], title='Confusion matrix, without normalization')\n",
    "\n",
    "# Plot normalized confusion matrix\n",
    "plt.figure()\n",
    "plot_confusion_matrix(confusion_mat, classes=[0,1], normalize=True, title='Normalized confusion matrix')\n",
    "\n",
    "plt.show()\n"
   ]
  },
  {
   "cell_type": "code",
   "execution_count": 18,
   "metadata": {},
   "outputs": [
    {
     "data": {
      "image/png": "[encoded data removed]",
      "text/plain": [
       "<Figure size 432x288 with 2 Axes>"
      ]
     },
     "metadata": {},
     "output_type": "display_data"
    },
    {
     "data": {
      "image/png": "[encoded data removed]",
      "text/plain": [
       "<Figure size 432x288 with 2 Axes>"
      ]
     },
     "metadata": {},
     "output_type": "display_data"
    }
   ],
   "source": [
    "correct_values = predictors_test['work_stayed'].astype(int)\n",
    "logis_regression_pred = logis_regression_plain.predict(dev_transformed_plain) \n",
    "\n",
    "confusion_mat = confusion_matrix(correct_values, logis_regression_pred)\n",
    "\n",
    "np.set_printoptions(precision=2)\n",
    "\n",
    "# Plot non-normalized confusion matrix\n",
    "plt.figure()\n",
    "plot_confusion_matrix(confusion_mat, classes=[0,1], title='Confusion matrix, without normalization')\n",
    "\n",
    "# Plot normalized confusion matrix\n",
    "plt.figure()\n",
    "plot_confusion_matrix(confusion_mat, classes=[0,1], normalize=True, title='Normalized confusion matrix')\n",
    "\n",
    "plt.show()\n"
   ]
  },
  {
   "cell_type": "code",
   "execution_count": 19,
   "metadata": {},
   "outputs": [
    {
     "data": {
      "text/html": [
       "<div>\n",
       "<style scoped>\n",
       "    .dataframe tbody tr th:only-of-type {\n",
       "        vertical-align: middle;\n",
       "    }\n",
       "\n",
       "    .dataframe tbody tr th {\n",
       "        vertical-align: top;\n",
       "    }\n",
       "\n",
       "    .dataframe thead th {\n",
       "        text-align: right;\n",
       "    }\n",
       "</style>\n",
       "<table border=\"1\" class=\"dataframe\">\n",
       "  <thead>\n",
       "    <tr style=\"text-align: right;\">\n",
       "      <th></th>\n",
       "      <th>0</th>\n",
       "    </tr>\n",
       "  </thead>\n",
       "  <tbody>\n",
       "    <tr>\n",
       "      <th>name</th>\n",
       "      <td>28.135</td>\n",
       "    </tr>\n",
       "    <tr>\n",
       "      <th>itemprop</th>\n",
       "      <td>13.673</td>\n",
       "    </tr>\n",
       "    <tr>\n",
       "      <th>addresslocality</th>\n",
       "      <td>13.519</td>\n",
       "    </tr>\n",
       "    <tr>\n",
       "      <th>postaladdress</th>\n",
       "      <td>13.519</td>\n",
       "    </tr>\n",
       "    <tr>\n",
       "      <th>address</th>\n",
       "      <td>13.318</td>\n",
       "    </tr>\n",
       "    <tr>\n",
       "      <th>schema</th>\n",
       "      <td>7.628</td>\n",
       "    </tr>\n",
       "    <tr>\n",
       "      <th>itemtype</th>\n",
       "      <td>7.622</td>\n",
       "    </tr>\n",
       "    <tr>\n",
       "      <th>org</th>\n",
       "      <td>7.606</td>\n",
       "    </tr>\n",
       "    <tr>\n",
       "      <th>http</th>\n",
       "      <td>7.462</td>\n",
       "    </tr>\n",
       "    <tr>\n",
       "      <th>2016</th>\n",
       "      <td>7.039</td>\n",
       "    </tr>\n",
       "  </tbody>\n",
       "</table>\n",
       "</div>"
      ],
      "text/plain": [
       "                      0\n",
       "name             28.135\n",
       "itemprop         13.673\n",
       "addresslocality  13.519\n",
       "postaladdress    13.519\n",
       "address          13.318\n",
       "schema            7.628\n",
       "itemtype          7.622\n",
       "org               7.606\n",
       "http              7.462\n",
       "2016              7.039"
      ]
     },
     "metadata": {},
     "output_type": "display_data"
    },
    {
     "data": {
      "text/html": [
       "<div>\n",
       "<style scoped>\n",
       "    .dataframe tbody tr th:only-of-type {\n",
       "        vertical-align: middle;\n",
       "    }\n",
       "\n",
       "    .dataframe tbody tr th {\n",
       "        vertical-align: top;\n",
       "    }\n",
       "\n",
       "    .dataframe thead th {\n",
       "        text-align: right;\n",
       "    }\n",
       "</style>\n",
       "<table border=\"1\" class=\"dataframe\">\n",
       "  <thead>\n",
       "    <tr style=\"text-align: right;\">\n",
       "      <th></th>\n",
       "      <th>0</th>\n",
       "    </tr>\n",
       "  </thead>\n",
       "  <tbody>\n",
       "    <tr>\n",
       "      <th>2016</th>\n",
       "      <td>6.603</td>\n",
       "    </tr>\n",
       "    <tr>\n",
       "      <th>currently</th>\n",
       "      <td>3.473</td>\n",
       "    </tr>\n",
       "    <tr>\n",
       "      <th>2015</th>\n",
       "      <td>3.261</td>\n",
       "    </tr>\n",
       "    <tr>\n",
       "      <th>manage</th>\n",
       "      <td>3.070</td>\n",
       "    </tr>\n",
       "    <tr>\n",
       "      <th>fresno</th>\n",
       "      <td>2.616</td>\n",
       "    </tr>\n",
       "    <tr>\n",
       "      <th>lead</th>\n",
       "      <td>2.425</td>\n",
       "    </tr>\n",
       "    <tr>\n",
       "      <th>are</th>\n",
       "      <td>2.407</td>\n",
       "    </tr>\n",
       "    <tr>\n",
       "      <th>current</th>\n",
       "      <td>2.314</td>\n",
       "    </tr>\n",
       "    <tr>\n",
       "      <th>lafayette</th>\n",
       "      <td>2.289</td>\n",
       "    </tr>\n",
       "    <tr>\n",
       "      <th>have</th>\n",
       "      <td>2.179</td>\n",
       "    </tr>\n",
       "  </tbody>\n",
       "</table>\n",
       "</div>"
      ],
      "text/plain": [
       "               0\n",
       "2016       6.603\n",
       "currently  3.473\n",
       "2015       3.261\n",
       "manage     3.070\n",
       "fresno     2.616\n",
       "lead       2.425\n",
       "are        2.407\n",
       "current    2.314\n",
       "lafayette  2.289\n",
       "have       2.179"
      ]
     },
     "metadata": {},
     "output_type": "display_data"
    }
   ],
   "source": [
    "# Print some examples of our vocabulary\n",
    "\n",
    "def construct_columns_for_top_vocab(vectorizer_train, logis_regression):\n",
    "    \n",
    "    # Initialize empty helper vectors and get feature names\n",
    "    feature_names = vectorizer_train.get_feature_names()\n",
    "    num_top_features = 10\n",
    "    all_indices = []\n",
    "    all_indices_labels = []\n",
    "    all_indices_values = []\n",
    "    all_indices_values_with_labels = {}\n",
    "    \n",
    "    # https://stackoverflow.com/questions/6910641/how-do-i-get-indices-of-n-maximum-values-in-a-numpy-array\n",
    "    indices = (-logis_regression.coef_[0]).argsort()[:num_top_features]\n",
    "    all_indices.extend(indices)\n",
    "            \n",
    "    # Getting all the indices and then adding the feature names for each category\n",
    "    for i, value in enumerate(all_indices):\n",
    "        all_indices_labels.append(feature_names[value])\n",
    "        all_indices_values.append([])\n",
    "        all_indices_values[i].append(round(logis_regression.coef_[0][value], 3))\n",
    "        all_indices_values_with_labels[feature_names[value]] = all_indices_values[i]\n",
    "        \n",
    "    return all_indices_values_with_labels\n",
    "\n",
    "\n",
    "showValues = construct_columns_for_top_vocab(vectorizer_train, logis_regression)\n",
    "df = pd.DataFrame.from_dict(showValues, orient='index')\n",
    "display(df)\n",
    "\n",
    "showValues = construct_columns_for_top_vocab(vectorizer_train_plain, logis_regression_plain)\n",
    "df = pd.DataFrame.from_dict(showValues, orient='index')\n",
    "display(df)"
   ]
  },
  {
   "cell_type": "code",
   "execution_count": null,
   "metadata": {},
   "outputs": [],
   "source": []
  },
  {
   "cell_type": "code",
   "execution_count": 48,
   "metadata": {},
   "outputs": [
    {
     "name": "stdout",
     "output_type": "stream",
     "text": [
      "Accuracy: 0.571538\n",
      "Log Loss: 1.20385\n"
     ]
    }
   ],
   "source": [
    "\n",
    "\n",
    "multinomial = MultinomialNB()\n",
    "multinomial.fit(train_transformed, predictors_train_['work_stayed'].astype(int))\n",
    "f1score_multi = multinomial.score(dev_transformed, predictors_test['work_stayed'].astype(int)) \n",
    "\n",
    "pred_multi = multinomial.predict_proba(dev_transformed)\n",
    "\n",
    "accuracy = round(f1score_multi, 6)\n",
    "log_loss_ = round(log_loss(predictors_test['work_stayed'].astype(int), pred_multi), 6)\n",
    "\n",
    "print(\"Accuracy: \" + str(accuracy))\n",
    "print(\"Log Loss: \" + str(log_loss_))\n",
    "model_results.append({\"accuracy\" : accuracy, \"name\" : \"TFIDF HTML NB - Predict Stay at Job\", \"log_loss\": log_loss_})\n"
   ]
  },
  {
   "cell_type": "code",
   "execution_count": 49,
   "metadata": {},
   "outputs": [
    {
     "name": "stdout",
     "output_type": "stream",
     "text": [
      "Accuracy: 0.583206\n",
      "Log Loss: 0.900991\n"
     ]
    }
   ],
   "source": [
    "multinomial_plain = MultinomialNB()\n",
    "multinomial_plain.fit(train_transformed_plain, predictors_train_['work_stayed'].astype(int))\n",
    "f1score_multi = multinomial_plain.score(dev_transformed_plain, predictors_test['work_stayed'].astype(int)) \n",
    "\n",
    "pred_plain_multi = multinomial_plain.predict_proba(dev_transformed_plain)\n",
    "\n",
    "accuracy = round(f1score_multi, 6)\n",
    "log_loss_ = round(log_loss(predictors_test['work_stayed'].astype(int), pred_plain_multi), 6)\n",
    "\n",
    "print(\"Accuracy: \" + str(accuracy))\n",
    "print(\"Log Loss: \" + str(log_loss_))\n",
    "model_results.append({\"accuracy\" : accuracy, \"name\" : \"TFIDF Plain NB - Predict Stay at Job\", \"log_loss\": log_loss_})\n"
   ]
  },
  {
   "cell_type": "code",
   "execution_count": 50,
   "metadata": {},
   "outputs": [
    {
     "data": {
      "text/html": [
       "<div>\n",
       "<style scoped>\n",
       "    .dataframe tbody tr th:only-of-type {\n",
       "        vertical-align: middle;\n",
       "    }\n",
       "\n",
       "    .dataframe tbody tr th {\n",
       "        vertical-align: top;\n",
       "    }\n",
       "\n",
       "    .dataframe thead th {\n",
       "        text-align: right;\n",
       "    }\n",
       "</style>\n",
       "<table border=\"1\" class=\"dataframe\">\n",
       "  <thead>\n",
       "    <tr style=\"text-align: right;\">\n",
       "      <th></th>\n",
       "      <th>0</th>\n",
       "    </tr>\n",
       "  </thead>\n",
       "  <tbody>\n",
       "    <tr>\n",
       "      <th>div</th>\n",
       "      <td>-6.103</td>\n",
       "    </tr>\n",
       "    <tr>\n",
       "      <th>class</th>\n",
       "      <td>-6.179</td>\n",
       "    </tr>\n",
       "    <tr>\n",
       "      <th>span</th>\n",
       "      <td>-6.459</td>\n",
       "    </tr>\n",
       "    <tr>\n",
       "      <th>id</th>\n",
       "      <td>-6.472</td>\n",
       "    </tr>\n",
       "    <tr>\n",
       "      <th>itemprop</th>\n",
       "      <td>-6.585</td>\n",
       "    </tr>\n",
       "    <tr>\n",
       "      <th>br</th>\n",
       "      <td>-6.628</td>\n",
       "    </tr>\n",
       "    <tr>\n",
       "      <th>section</th>\n",
       "      <td>-6.667</td>\n",
       "    </tr>\n",
       "    <tr>\n",
       "      <th>and</th>\n",
       "      <td>-6.687</td>\n",
       "    </tr>\n",
       "    <tr>\n",
       "      <th>data_display</th>\n",
       "      <td>-6.732</td>\n",
       "    </tr>\n",
       "    <tr>\n",
       "      <th>to</th>\n",
       "      <td>-6.735</td>\n",
       "    </tr>\n",
       "  </tbody>\n",
       "</table>\n",
       "</div>"
      ],
      "text/plain": [
       "                  0\n",
       "div          -6.103\n",
       "class        -6.179\n",
       "span         -6.459\n",
       "id           -6.472\n",
       "itemprop     -6.585\n",
       "br           -6.628\n",
       "section      -6.667\n",
       "and          -6.687\n",
       "data_display -6.732\n",
       "to           -6.735"
      ]
     },
     "metadata": {},
     "output_type": "display_data"
    }
   ],
   "source": [
    "showValues = construct_columns_for_top_vocab(vectorizer_train, multinomial)\n",
    "df = pd.DataFrame.from_dict(showValues, orient='index')\n",
    "display(df)\n"
   ]
  },
  {
   "cell_type": "code",
   "execution_count": 51,
   "metadata": {},
   "outputs": [
    {
     "data": {
      "text/html": [
       "<div>\n",
       "<style scoped>\n",
       "    .dataframe tbody tr th:only-of-type {\n",
       "        vertical-align: middle;\n",
       "    }\n",
       "\n",
       "    .dataframe tbody tr th {\n",
       "        vertical-align: top;\n",
       "    }\n",
       "\n",
       "    .dataframe thead th {\n",
       "        text-align: right;\n",
       "    }\n",
       "</style>\n",
       "<table border=\"1\" class=\"dataframe\">\n",
       "  <thead>\n",
       "    <tr style=\"text-align: right;\">\n",
       "      <th></th>\n",
       "      <th>0</th>\n",
       "    </tr>\n",
       "  </thead>\n",
       "  <tbody>\n",
       "    <tr>\n",
       "      <th>and</th>\n",
       "      <td>-6.088</td>\n",
       "    </tr>\n",
       "    <tr>\n",
       "      <th>to</th>\n",
       "      <td>-6.113</td>\n",
       "    </tr>\n",
       "    <tr>\n",
       "      <th>in</th>\n",
       "      <td>-6.396</td>\n",
       "    </tr>\n",
       "    <tr>\n",
       "      <th>of</th>\n",
       "      <td>-6.412</td>\n",
       "    </tr>\n",
       "    <tr>\n",
       "      <th>the</th>\n",
       "      <td>-6.428</td>\n",
       "    </tr>\n",
       "    <tr>\n",
       "      <th>for</th>\n",
       "      <td>-6.506</td>\n",
       "    </tr>\n",
       "    <tr>\n",
       "      <th>with</th>\n",
       "      <td>-6.616</td>\n",
       "    </tr>\n",
       "    <tr>\n",
       "      <th>work</th>\n",
       "      <td>-6.637</td>\n",
       "    </tr>\n",
       "    <tr>\n",
       "      <th>skills</th>\n",
       "      <td>-6.770</td>\n",
       "    </tr>\n",
       "    <tr>\n",
       "      <th>customer</th>\n",
       "      <td>-6.791</td>\n",
       "    </tr>\n",
       "  </tbody>\n",
       "</table>\n",
       "</div>"
      ],
      "text/plain": [
       "              0\n",
       "and      -6.088\n",
       "to       -6.113\n",
       "in       -6.396\n",
       "of       -6.412\n",
       "the      -6.428\n",
       "for      -6.506\n",
       "with     -6.616\n",
       "work     -6.637\n",
       "skills   -6.770\n",
       "customer -6.791"
      ]
     },
     "metadata": {},
     "output_type": "display_data"
    }
   ],
   "source": [
    "showValues = construct_columns_for_top_vocab(vectorizer_train_plain, multinomial_plain)\n",
    "df = pd.DataFrame.from_dict(showValues, orient='index')\n",
    "display(df)"
   ]
  },
  {
   "cell_type": "code",
   "execution_count": 15,
   "metadata": {},
   "outputs": [],
   "source": [
    "from sklearn.base import TransformerMixin\n",
    "from sklearn.pipeline import FeatureUnion\n"
   ]
  },
  {
   "cell_type": "code",
   "execution_count": 16,
   "metadata": {},
   "outputs": [],
   "source": [
    "# Loading list of stopwords from nltk corpus\n",
    "stop_words = stopwords.words('english')\n",
    "\n",
    "# Helper function for finding the percent of stop words in the message\n",
    "def contains_stop_words(x):\n",
    "    count = 0\n",
    "    \n",
    "    tokens = x.lower().split()\n",
    "    for value in tokens:\n",
    "        if value in stop_words:\n",
    "            count = count + 1\n",
    "    \n",
    "    return count / float(len(tokens))\n",
    "\n",
    "# The word length function for counting how long individual words are\n",
    "def word_length(x):\n",
    "    total_chars = len(x)\n",
    "    num_words = len(x.split())\n",
    "    return total_chars / float(num_words)\n",
    "\n",
    "# Helper function for finding the number of unique words\n",
    "def unique_words(x):\n",
    "    num_words = len(set(x.lower().split()))\n",
    "    return num_words\n",
    "\n",
    "def capitalized_percent(x):\n",
    "    total_chars = len(x)\n",
    "    num_capi = len(re.findall(r'[A-Z]', x))\n",
    "    return num_capi / float(total_chars)\n",
    "\n",
    "# Helper function for calculating the percent of non-alpha numeric characters\n",
    "def non_alphanumeric_percent(x):\n",
    "    total_chars = len(x)\n",
    "    num_special = len(re.findall(r'[^0-9a-zA-Z ]', x))\n",
    "    return num_special / float(total_chars)\n",
    "\n",
    "# Helper function for calculating the percent of non-alpha numeric non-period, comma, dash characters\n",
    "def non_alphanumeric_noperiodscommas_percent(x):\n",
    "    total_chars = len(x)\n",
    "    num_special = len(re.findall(r'[^0-9a-zA-Z.,-/ ]', x))\n",
    "    return num_special / float(total_chars)\n",
    "\n",
    "# Helper function for calculating the percent of non-alpha-numeric specific punctuation characters\n",
    "def non_alphanumeric_specificpunc_percent(x):\n",
    "    total_chars = len(x)\n",
    "    num_special = len(re.findall(r'[!@$%&*]', x))\n",
    "    return num_special / float(total_chars)\n",
    "\n",
    "# Helper function for calculating the percent of just ! characters\n",
    "def non_alphanumeric_just_exclamation_percent(x):\n",
    "    total_chars = len(x)\n",
    "    num_special = len(re.findall(r'[!]', x))\n",
    "    return num_special / float(total_chars)\n",
    "\n",
    "# Class transformer for TextLengthTransformer\n",
    "class TextLengthTransformer(TransformerMixin):\n",
    "    def transform(self, X, **transform_params):\n",
    "        feature = np.array(X.apply(lambda x: len(x) > 150 )).reshape(-1,1)\n",
    "        return feature\n",
    "\n",
    "    def fit(self, X, y=None, **fit_params):\n",
    "        return self\n",
    "\n",
    "# Class transformer for TokenLengthTransformer\n",
    "class TokenLengthTransformer(TransformerMixin):\n",
    "    def transform(self, X, **transform_params):\n",
    "        feature = np.array(X.apply(lambda x: len([word for word in x.split() if word]))).reshape(-1,1)\n",
    "        return feature\n",
    "\n",
    "    def fit(self, X, y=None, **fit_params):\n",
    "        return self\n",
    "\n",
    "# Class transformer for AverageWordLengthTransformer\n",
    "class AverageWordLengthTransformer(TransformerMixin):\n",
    "    def transform(self, X, **transform_params):\n",
    "        feature = np.array(X.apply(lambda x: word_length(x))).reshape(-1,1)\n",
    "        return feature\n",
    "\n",
    "    def fit(self, X, y=None, **fit_params):\n",
    "        return self\n",
    "\n",
    "# Class transformer for AverageWordLengthNormalTransformer\n",
    "class AverageWordLengthNormalTransformer(TransformerMixin):\n",
    "    def transform(self, X, **transform_params):\n",
    "        feature = np.array(X.apply(lambda x: word_length(x) > 100)).reshape(-1,1)\n",
    "        return feature\n",
    "\n",
    "    def fit(self, X, y=None, **fit_params):\n",
    "        return self\n",
    "    \n",
    "# Class transformer for CapitalizedPercentTransformer\n",
    "class CapitalizedPercentTransformer(TransformerMixin):\n",
    "    def transform(self, X, **transform_params):\n",
    "        feature = np.array(X.apply(lambda x: capitalized_percent(x))).reshape(-1,1)\n",
    "        return feature\n",
    "\n",
    "    def fit(self, X, y=None, **fit_params):\n",
    "        return self\n",
    "\n",
    "# Class transformer for SpecificPunctuationTransformer\n",
    "class SpecificPunctuationTransformer(TransformerMixin):\n",
    "    def transform(self, X, **transform_params):\n",
    "        feature = np.array(X.apply(lambda x: non_alphanumeric_specificpunc_percent(x))).reshape(-1,1)\n",
    "        return feature\n",
    "\n",
    "    def fit(self, X, y=None, **fit_params):\n",
    "        return self\n",
    "\n",
    "# Class transformer for SpecificPunctuationExclamaTransformer\n",
    "class SpecificPunctuationExclamaTransformer(TransformerMixin):\n",
    "    def transform(self, X, **transform_params):\n",
    "        feature = np.array(X.apply(lambda x: non_alphanumeric_just_exclamation_percent(x))).reshape(-1,1)\n",
    "        return feature\n",
    "\n",
    "    def fit(self, X, y=None, **fit_params):\n",
    "        return self\n",
    "\n",
    "# Class transformer for UniqueWordsTransformer\n",
    "class UniqueWordsTransformer(TransformerMixin):\n",
    "    def transform(self, X, **transform_params):\n",
    "        feature = np.array(X.apply(lambda x: unique_words(x))).reshape(-1,1)\n",
    "        return feature\n",
    "\n",
    "    def fit(self, X, y=None, **fit_params):\n",
    "        return self\n",
    "    \n",
    "# Class transformer for ContainsStopWordsTransformer\n",
    "class ContainsStopWordsTransformer(TransformerMixin):\n",
    "    def transform(self, X, **transform_params):\n",
    "        feature = np.array(X.apply(lambda x: contains_stop_words(x))).reshape(-1,1)\n",
    "        return feature\n",
    "\n",
    "    def fit(self, X, y=None, **fit_params):\n",
    "        return self\n",
    "\n",
    "class SpecificPunctuationTransformer(TransformerMixin):\n",
    "    def transform(self, X, **transform_params):\n",
    "        feature = np.array(X.apply(lambda x: non_alphanumeric_specificpunc_percent(x))).reshape(-1,1)\n",
    "        return feature\n",
    "\n",
    "    def fit(self, X, y=None, **fit_params):\n",
    "        return self\n"
   ]
  },
  {
   "cell_type": "code",
   "execution_count": 17,
   "metadata": {},
   "outputs": [
    {
     "name": "stdout",
     "output_type": "stream",
     "text": [
      "Accuracy: 0.650419\n",
      "Log Loss: 0.62472\n"
     ]
    }
   ],
   "source": [
    "pipe_all = Pipeline([\n",
    "    ('features', FeatureUnion([\n",
    "        ('TextLength', TextLengthTransformer()),\n",
    "        ('TokenLength', TokenLengthTransformer()),\n",
    "        ('AverageWordLength', AverageWordLengthTransformer()),\n",
    "        ('AverageWordLengthNormal', AverageWordLengthNormalTransformer()),\n",
    "        ('UniqueWords', UniqueWordsTransformer()),\n",
    "        ('tfdif_features', Pipeline([\n",
    "            ('cv', CountVectorizer()),\n",
    "            ('tfidf', TfidfTransformer(sublinear_tf = True)),\n",
    "        ])),\n",
    "    ])),\n",
    "    ('logit', LogisticRegression()),\n",
    "\n",
    "])\n",
    "\n",
    "pipe_all.fit(train_data_['plain_data'], predictors_train_['work_stayed'].astype(int))\n",
    "f1score_logis = pipe_all.score(test_data_['plain_data'], predictors_test['work_stayed'].astype(int))\n",
    "pred_pipe = pipe_all.predict_proba(test_data_['plain_data'])\n",
    "\n",
    "accuracy = round(f1score_logis, 6)\n",
    "log_loss_ = round(log_loss(predictors_test['work_stayed'].astype(int), pred_pipe), 6)\n",
    "\n",
    "print(\"Accuracy: \" + str(accuracy))\n",
    "print(\"Log Loss: \" + str(log_loss_))\n",
    "model_results.append({\"accuracy\" : accuracy, \"name\" : \"TFIDF Plain Log Pipeline [*all] - Predict Stay at Job\", \"log_loss\": log_loss_})\n",
    "\n"
   ]
  },
  {
   "cell_type": "code",
   "execution_count": 18,
   "metadata": {},
   "outputs": [
    {
     "name": "stdout",
     "output_type": "stream",
     "text": [
      "Accuracy: 0.735607\n",
      "Log Loss: 0.546627\n"
     ]
    }
   ],
   "source": [
    "pipe_all = Pipeline([\n",
    "    ('features', FeatureUnion([\n",
    "        ('TextLength', TextLengthTransformer()),\n",
    "        ('TokenLength', TokenLengthTransformer()),\n",
    "        ('AverageWordLength', AverageWordLengthTransformer()),\n",
    "        ('AverageWordLengthNormal', AverageWordLengthNormalTransformer()),\n",
    "        ('UniqueWords', UniqueWordsTransformer()),\n",
    "        ('tfdif_features', Pipeline([\n",
    "            ('cv', CountVectorizer()),\n",
    "            ('tfidf', TfidfTransformer(sublinear_tf = True)),\n",
    "        ])),\n",
    "    ])),\n",
    "    ('logit', LogisticRegression()),\n",
    "\n",
    "])\n",
    "\n",
    "pipe_all.fit(train_data_['data'], predictors_train_['work_stayed'].astype(int))\n",
    "f1score_logis = pipe_all.score(test_data_['data'], predictors_test['work_stayed'].astype(int))\n",
    "pred_pipe = pipe_all.predict_proba(test_data_['data'])\n",
    "\n",
    "accuracy = round(f1score_logis, 6)\n",
    "log_loss_ = round(log_loss(predictors_test['work_stayed'].astype(int), pred_pipe), 6)\n",
    "\n",
    "print(\"Accuracy: \" + str(accuracy))\n",
    "print(\"Log Loss: \" + str(log_loss_))\n",
    "model_results.append({\"accuracy\" : accuracy, \"name\" : \"TFIDF HTML Log Pipeline [*all] - Predict Stay at Job\", \"log_loss\": log_loss_})\n",
    "\n"
   ]
  },
  {
   "cell_type": "code",
   "execution_count": 19,
   "metadata": {},
   "outputs": [
    {
     "data": {
      "text/plain": [
       "[{'accuracy': 0.736913,\n",
       "  'name': 'TFIDF HTML - Predict Stay at Job',\n",
       "  'log_loss': 0.545848},\n",
       " {'accuracy': 0.650329,\n",
       "  'name': 'TFIDF Plain Text - Predict Stay at Job',\n",
       "  'log_loss': 0.625412},\n",
       " {'accuracy': 0.650419,\n",
       "  'name': 'TFIDF Plain Log Pipeline [*all] - Predict Stay at Job',\n",
       "  'log_loss': 0.62472},\n",
       " {'accuracy': 0.735607,\n",
       "  'name': 'TFIDF HTML Log Pipeline [*all] - Predict Stay at Job',\n",
       "  'log_loss': 0.546627}]"
      ]
     },
     "execution_count": 19,
     "metadata": {},
     "output_type": "execute_result"
    }
   ],
   "source": [
    "model_results"
   ]
  },
  {
   "cell_type": "code",
   "execution_count": 20,
   "metadata": {},
   "outputs": [
    {
     "name": "stderr",
     "output_type": "stream",
     "text": [
      "/Users/sxc2/anaconda3/lib/python3.6/site-packages/h5py/__init__.py:36: FutureWarning: Conversion of the second argument of issubdtype from `float` to `np.floating` is deprecated. In future, it will be treated as `np.float64 == np.dtype(float).type`.\n",
      "  from ._conv import register_converters as _register_converters\n",
      "Using TensorFlow backend.\n",
      "/Users/sxc2/anaconda3/lib/python3.6/site-packages/ipykernel_launcher.py:17: DeprecationWarning: Call to deprecated `wv` (Attribute will be removed in 4.0.0, use self instead).\n"
     ]
    }
   ],
   "source": [
    "import gensim.models.keyedvectors as word2vec\n",
    "import keras\n",
    "import gc\n",
    "\n",
    "from keras.preprocessing.text import Tokenizer\n",
    "from keras.preprocessing.sequence import pad_sequences\n",
    "from keras.layers import Dense, Input, LSTM, Embedding, Dropout, Activation\n",
    "from keras.layers import Bidirectional, GlobalMaxPool1D,Bidirectional\n",
    "from keras.models import Model\n",
    "from keras import initializers, regularizers, constraints, optimizers, layers\n",
    "\n",
    "# load word2vec, slimmed down version for performance reasons\n",
    "word2vecDict = word2vec.KeyedVectors.load_word2vec_format(\"data/GoogleNews-vectors-negative300-SLIM.bin\", binary = True)\n",
    "embedding_dictionary = dict()\n",
    "\n",
    "# create the embeddings index from word2vec vocabulary\n",
    "for word in word2vecDict.wv.vocab:\n",
    "    embedding_dictionary[word] = word2vecDict.word_vec(word)\n",
    "\n",
    "### TUNABLE PARAMETERS WE DID NOT TUNE DUE TO RUN TIME DURATION\n",
    "max_length_cutoff = 200\n",
    "batch_size = 32\n",
    "epochs = 3\n",
    "vocab_size = 16000\n",
    "embedding_layer = 300\n",
    "\n",
    "# Initialize tokenizer with a default vocab size, fit on training data\n",
    "# tokenizer = Tokenizer(num_words = vocab_size)\n",
    "# tokenizer.fit_on_texts(list(train_data_['data']))\n",
    "\n",
    "# # for training and test data\n",
    "# list_tokenized_train = tokenizer.texts_to_sequences(train_data_['data'])\n",
    "# tokenized_padded_train = pad_sequences(list_tokenized_train, maxlen = max_length_cutoff)\n",
    "\n",
    "# list_tokenized_test = tokenizer.texts_to_sequences(test_data_['data'])\n",
    "# tokenized_padded_test = pad_sequences(list_tokenized_test, maxlen = max_length_cutoff)\n"
   ]
  },
  {
   "cell_type": "code",
   "execution_count": 68,
   "metadata": {},
   "outputs": [],
   "source": [
    "\n"
   ]
  },
  {
   "cell_type": "code",
   "execution_count": 59,
   "metadata": {},
   "outputs": [],
   "source": []
  },
  {
   "cell_type": "code",
   "execution_count": 60,
   "metadata": {},
   "outputs": [],
   "source": []
  },
  {
   "cell_type": "code",
   "execution_count": 21,
   "metadata": {},
   "outputs": [],
   "source": [
    "# https://www.kaggle.com/amberhahn/using-f-score-to-evaluate-the-lstm-model\n",
    "def model_F_score(newp,newy_test):\n",
    "    TP=0\n",
    "    FN=0\n",
    "    FP=0\n",
    "    for i in range(len(newp)-1):\n",
    "        test_prof=newy_test[i+1]-newy_test[i]\n",
    "        p_prof=newp[i+1] - newp[i]\n",
    "\n",
    "        if((test_prof>=0) and (p_prof>=0)):\n",
    "            TP=TP+1\n",
    "        if ((test_prof>= 0) and (p_prof<0)):\n",
    "            FN=FN+1\n",
    "        if ((test_prof<0) and (p_prof>=0)):\n",
    "            FP=FP+1\n",
    "\n",
    "    Precision=float(TP)/float(TP+FP)\n",
    "    Recall=float(TP)/float(TP+FN)\n",
    "\n",
    "    Fscore= 2.0*Precision*Recall/(Precision+Recall)\n",
    "    print('classification F score: %.5f' % (Fscore))\n",
    "    return Fscore\n",
    "\n",
    "# model_F_score(predictors_test['work_stayed'].astype(int), lstm_nn_pred)"
   ]
  },
  {
   "cell_type": "code",
   "execution_count": null,
   "metadata": {},
   "outputs": [],
   "source": [
    "\n",
    "\n",
    "\n"
   ]
  },
  {
   "cell_type": "code",
   "execution_count": 22,
   "metadata": {},
   "outputs": [],
   "source": [
    "model_predictions = {}"
   ]
  },
  {
   "cell_type": "code",
   "execution_count": 23,
   "metadata": {},
   "outputs": [],
   "source": [
    "from keras import backend as K\n",
    "\n",
    "# https://stackoverflow.com/questions/43547402/how-to-calculate-f1-macro-in-keras\n",
    "def f1(y_true, y_pred):\n",
    "    def recall(y_true, y_pred):\n",
    "        \"\"\"Recall metric.\n",
    "\n",
    "        Only computes a batch-wise average of recall.\n",
    "\n",
    "        Computes the recall, a metric for multi-label classification of\n",
    "        how many relevant items are selected.\n",
    "        \"\"\"\n",
    "        true_positives = K.sum(K.round(K.clip(y_true * y_pred, 0, 1)))\n",
    "        possible_positives = K.sum(K.round(K.clip(y_true, 0, 1)))\n",
    "        recall = true_positives / (possible_positives + K.epsilon())\n",
    "        return recall\n",
    "\n",
    "    def precision(y_true, y_pred):\n",
    "        \"\"\"Precision metric.\n",
    "\n",
    "        Only computes a batch-wise average of precision.\n",
    "\n",
    "        Computes the precision, a metric for multi-label classification of\n",
    "        how many selected items are relevant.\n",
    "        \"\"\"\n",
    "        true_positives = K.sum(K.round(K.clip(y_true * y_pred, 0, 1)))\n",
    "        predicted_positives = K.sum(K.round(K.clip(y_pred, 0, 1)))\n",
    "        precision = true_positives / (predicted_positives + K.epsilon())\n",
    "        return precision\n",
    "    precision = precision(y_true, y_pred)\n",
    "    recall = recall(y_true, y_pred)\n",
    "    return 2*((precision*recall)/(precision+recall+K.epsilon()))\n"
   ]
  },
  {
   "cell_type": "code",
   "execution_count": 24,
   "metadata": {},
   "outputs": [],
   "source": [
    "def train_lstm_rnn(_epochs, _embedding_layer, data_name, _max_length_cutoff, _optimizer, _dropout):\n",
    "\n",
    "    global model_results\n",
    "    global embedding_dictionary\n",
    "    \n",
    "    # tunable?\n",
    "    output_dim = 60\n",
    "    \n",
    "    tokenizer_ = Tokenizer(num_words = vocab_size)\n",
    "    tokenizer_.fit_on_texts(list(train_data_[data_name]))\n",
    "\n",
    "    # for training and test data\n",
    "    list_tokenized_train_ = tokenizer_.texts_to_sequences(train_data_[data_name])\n",
    "    tokenized_padded_train_ = pad_sequences(list_tokenized_train_, maxlen = _max_length_cutoff)\n",
    "\n",
    "    list_tokenized_test_ = tokenizer_.texts_to_sequences(test_data_[data_name])\n",
    "    tokenized_padded_test_ = pad_sequences(list_tokenized_test_, maxlen = _max_length_cutoff)\n",
    "\n",
    "    number_words_ = len(tokenizer_.word_index)\n",
    "    embedding_values_ = np.stack(list(embedding_dictionary.values()))\n",
    "    \n",
    "    _mean, _std = embedding_values_.mean(), embedding_values_.std()\n",
    "    embedding_matrix_ = np.random.normal(_mean, _std, (number_words_, _embedding_layer))\n",
    "\n",
    "    for word, index in tokenizer_.word_index.items():\n",
    "        index = index - 1\n",
    "        embedding_vector = embedding_dictionary.get(word)\n",
    "        if embedding_vector is not None: \n",
    "            embedding_matrix_[index] = embedding_vector\n",
    "\n",
    "    sequence_input_ = Input(shape = (_max_length_cutoff, ))\n",
    "    x_ = Embedding(len(tokenizer_.word_index), \n",
    "                  embedding_matrix_.shape[1], weights = [embedding_matrix_], trainable = False)(sequence_input_)\n",
    "\n",
    "    x_ = Bidirectional(\n",
    "        LSTM(output_dim, return_sequences = True, name='lstm_layer', dropout = _dropout, recurrent_dropout = _dropout))(x_)\n",
    "\n",
    "    x_ = GlobalMaxPool1D()(x_)\n",
    "    x_ = Dropout(_dropout)(x_)\n",
    "    x_ = Dense(50, activation = \"relu\")(x_)\n",
    "    x_ = Dropout(_dropout)(x_)\n",
    "\n",
    "    # one output node\n",
    "    x_ = Dense(1, activation = \"sigmoid\")(x_)\n",
    "    model_ = Model(inputs = sequence_input_, outputs = x_)\n",
    "    model_.compile(loss = 'binary_crossentropy',\n",
    "                      optimizer = _optimizer,\n",
    "                      metrics = ['accuracy', 'cosine_proximity', f1])\n",
    "\n",
    "    # a look at the RNN we're building and its structure\n",
    "    model_.summary()\n",
    "\n",
    "    lstm_nn_plain = model_.fit(tokenized_padded_train_, \n",
    "                        predictors_train_['work_stayed'], \n",
    "                        batch_size = batch_size, epochs = _epochs, validation_split = 0.1)\n",
    "    lstm_nn_pred_plain = model_.predict(tokenized_padded_test_)\n",
    "    accuracy = model_F_score(predictors_test['work_stayed'].astype(int), lstm_nn_pred_plain)\n",
    "    \n",
    "    model_details_ = \"CO:\" + str(_max_length_cutoff) + \", E:\" + str(_epochs) + \", \" + data_name + \", \" + _optimizer\n",
    "    model_predictions[model_details_] = lstm_nn_pred_plain\n",
    "    model_results.append({\"F1 accuracy\" : accuracy, \"name\" : \"LSTM: \" + model_details_ + \" - Predict Stay at Job\"})\n",
    "\n",
    "\n"
   ]
  },
  {
   "cell_type": "code",
   "execution_count": null,
   "metadata": {},
   "outputs": [
    {
     "name": "stdout",
     "output_type": "stream",
     "text": [
      "_________________________________________________________________\n",
      "Layer (type)                 Output Shape              Param #   \n",
      "=================================================================\n",
      "input_2 (InputLayer)         (None, 800)               0         \n",
      "_________________________________________________________________\n",
      "embedding_2 (Embedding)      (None, 800, 300)          114940200 \n",
      "_________________________________________________________________\n",
      "bidirectional_2 (Bidirection (None, 800, 120)          173280    \n",
      "_________________________________________________________________\n",
      "global_max_pooling1d_2 (Glob (None, 120)               0         \n",
      "_________________________________________________________________\n",
      "dropout_3 (Dropout)          (None, 120)               0         \n",
      "_________________________________________________________________\n",
      "dense_3 (Dense)              (None, 50)                6050      \n",
      "_________________________________________________________________\n",
      "dropout_4 (Dropout)          (None, 50)                0         \n",
      "_________________________________________________________________\n",
      "dense_4 (Dense)              (None, 1)                 51        \n",
      "=================================================================\n",
      "Total params: 115,119,581\n",
      "Trainable params: 179,381\n",
      "Non-trainable params: 114,940,200\n",
      "_________________________________________________________________\n",
      "Train on 29968 samples, validate on 3330 samples\n",
      "Epoch 1/10\n",
      "29968/29968 [==============================] - 1018s 34ms/step - loss: 0.2855 - acc: 0.8415 - cosine_proximity: -0.5752 - f1: 0.8736 - val_loss: 0.1901 - val_acc: 0.8964 - val_cosine_proximity: -0.5796 - val_f1: 0.9157\n",
      "Epoch 2/10\n",
      "29968/29968 [==============================] - 1020s 34ms/step - loss: 0.1848 - acc: 0.8991 - cosine_proximity: -0.5752 - f1: 0.9170 - val_loss: 0.1881 - val_acc: 0.8967 - val_cosine_proximity: -0.5796 - val_f1: 0.9162\n",
      "Epoch 3/10\n",
      "29968/29968 [==============================] - 1052s 35ms/step - loss: 0.1823 - acc: 0.9002 - cosine_proximity: -0.5752 - f1: 0.9178 - val_loss: 0.1884 - val_acc: 0.8979 - val_cosine_proximity: -0.5796 - val_f1: 0.9169\n",
      "Epoch 4/10\n",
      "29968/29968 [==============================] - 1053s 35ms/step - loss: 0.1799 - acc: 0.9016 - cosine_proximity: -0.5752 - f1: 0.9186 - val_loss: 0.1872 - val_acc: 0.9000 - val_cosine_proximity: -0.5796 - val_f1: 0.9176\n",
      "Epoch 5/10\n",
      "29968/29968 [==============================] - 1067s 36ms/step - loss: 0.1776 - acc: 0.9015 - cosine_proximity: -0.5752 - f1: 0.9180 - val_loss: 0.1856 - val_acc: 0.9012 - val_cosine_proximity: -0.5796 - val_f1: 0.9182\n",
      "Epoch 6/10\n",
      "29968/29968 [==============================] - 1078s 36ms/step - loss: 0.1770 - acc: 0.9038 - cosine_proximity: -0.5752 - f1: 0.9200 - val_loss: 0.1877 - val_acc: 0.9003 - val_cosine_proximity: -0.5796 - val_f1: 0.9189\n",
      "Epoch 7/10\n",
      " 2368/29968 [=>............................] - ETA: 16:19 - loss: 0.1697 - acc: 0.9067 - cosine_proximity: -0.5739 - f1: 0.9213"
     ]
    }
   ],
   "source": [
    "train_lstm_rnn(10, 300, 'data', 800, \"adam\", 0.1)"
   ]
  },
  {
   "cell_type": "code",
   "execution_count": null,
   "metadata": {},
   "outputs": [],
   "source": [
    "def score_accuracy(pred, actual):\n",
    "    total = 0.0\n",
    "    correct = 0.0\n",
    "    for index, value in enumerate(pred):\n",
    "        if (actual[index] == round(value[0])):\n",
    "            correct += 1\n",
    "        total += 1\n",
    "    return correct / total"
   ]
  },
  {
   "cell_type": "code",
   "execution_count": null,
   "metadata": {},
   "outputs": [],
   "source": [
    "for index in model_predictions:\n",
    "    score = score_accuracy(model_predictions[index], predictors_test['work_stayed'].astype(int))\n",
    "    print(str(index) + \" score: \" + str(score))\n",
    "    \n",
    "    \n",
    "    \n",
    "    "
   ]
  },
  {
   "cell_type": "code",
   "execution_count": null,
   "metadata": {},
   "outputs": [],
   "source": [
    "pickle.dump(model_predictions, open( \"data/results_LSTM_stayjob_best.p\", \"wb\" ) )\n",
    "\n",
    "def print_wrong_examples(pred, actual, details = True, all_results = False):\n",
    "    count = 0\n",
    "    for index, value in enumerate(pred):\n",
    "        if (actual[index] != round(value[0])) and (abs(actual[index] - value[0]) > 0.8):\n",
    "            print(\"index:\" + str(index) + \" actual:\" + str(actual[index].astype(int)) + \" predicted:\" + str(round(value[0])) + \" \" + str(value[0]))\n",
    "            if (details):\n",
    "                print('====================================================================')\n",
    "                print(test_data_['plain_data'][index])\n",
    "            count += 1\n",
    "        if (count > 10) and not all_results:\n",
    "            break\n",
    "\n",
    "            \n",
    "print_wrong_examples(model_predictions['CO:800, E:10, data, adam'], predictors_test['work_stayed'].astype(int), True, True)"
   ]
  },
  {
   "cell_type": "code",
   "execution_count": null,
   "metadata": {},
   "outputs": [],
   "source": [
    "# def print_wrong_plain_data_correct_data(pred_data, pred_plain, actual, details = False):\n",
    "#     for index, value in enumerate(pred_plain):\n",
    "#         if (actual[index] != round(value[0])) and (round(pred_data[index][0]) != round(value[0])):\n",
    "#             print(\"index:\" + str(index) + \" actual:\" + str(actual[index].astype(int)) + \" predicted plain:\" + str(value[0]))\n",
    "#             print(\"index:\" + str(index) + \" actual:\" + str(actual[index].astype(int)) + \" predicted html:\" + str(pred_data[index]))\n",
    "#             if (details):\n",
    "#                 print('====================================================================')\n",
    "#                 print(test_data_['plain_data'][index])\n",
    "\n",
    "# print_wrong_plain_data_correct_data(model_predictions['CO:800, E:10, plain_data, adam'], model_predictions['CO:800, E:10, data, adam'], predictors_test['work_stayed'].astype(int))"
   ]
  },
  {
   "cell_type": "code",
   "execution_count": null,
   "metadata": {},
   "outputs": [],
   "source": []
  },
  {
   "cell_type": "code",
   "execution_count": 80,
   "metadata": {},
   "outputs": [
    {
     "name": "stdout",
     "output_type": "stream",
     "text": [
      "_________________________________________________________________\n",
      "Layer (type)                 Output Shape              Param #   \n",
      "=================================================================\n",
      "input_3 (InputLayer)         (None, 400)               0         \n",
      "_________________________________________________________________\n",
      "embedding_3 (Embedding)      (None, 400, 300)          83308500  \n",
      "_________________________________________________________________\n",
      "bidirectional_3 (Bidirection (None, 400, 120)          173280    \n",
      "_________________________________________________________________\n",
      "global_max_pooling1d_3 (Glob (None, 120)               0         \n",
      "_________________________________________________________________\n",
      "dropout_5 (Dropout)          (None, 120)               0         \n",
      "_________________________________________________________________\n",
      "dense_5 (Dense)              (None, 50)                6050      \n",
      "_________________________________________________________________\n",
      "dropout_6 (Dropout)          (None, 50)                0         \n",
      "_________________________________________________________________\n",
      "dense_6 (Dense)              (None, 1)                 51        \n",
      "=================================================================\n",
      "Total params: 83,487,881\n",
      "Trainable params: 179,381\n",
      "Non-trainable params: 83,308,500\n",
      "_________________________________________________________________\n",
      "Train on 19979 samples, validate on 2220 samples\n",
      "Epoch 1/5\n",
      "19979/19979 [==============================] - 338s 17ms/step - loss: 0.5717 - acc: 0.6620 - cosine_proximity: -0.5747 - f1: 0.7437 - val_loss: 0.4943 - val_acc: 0.7167 - val_cosine_proximity: -0.5734 - val_f1: 0.7983\n",
      "Epoch 2/5\n",
      "19979/19979 [==============================] - 332s 17ms/step - loss: 0.4716 - acc: 0.7318 - cosine_proximity: -0.5747 - f1: 0.7997 - val_loss: 0.4653 - val_acc: 0.7351 - val_cosine_proximity: -0.5734 - val_f1: 0.8089\n",
      "Epoch 3/5\n",
      "19979/19979 [==============================] - 321s 16ms/step - loss: 0.4583 - acc: 0.7395 - cosine_proximity: -0.5747 - f1: 0.8085 - val_loss: 0.4611 - val_acc: 0.7351 - val_cosine_proximity: -0.5734 - val_f1: 0.8081\n",
      "Epoch 4/5\n",
      "19979/19979 [==============================] - 317s 16ms/step - loss: 0.4538 - acc: 0.7404 - cosine_proximity: -0.5747 - f1: 0.8084 - val_loss: 0.4576 - val_acc: 0.7383 - val_cosine_proximity: -0.5734 - val_f1: 0.8098\n",
      "Epoch 5/5\n",
      "19979/19979 [==============================] - 321s 16ms/step - loss: 0.4520 - acc: 0.7427 - cosine_proximity: -0.5747 - f1: 0.8082 - val_loss: 0.4556 - val_acc: 0.7374 - val_cosine_proximity: -0.5734 - val_f1: 0.8100\n",
      "classification F score: 0.71718\n"
     ]
    }
   ],
   "source": [
    "train_lstm_rnn(5, 300, 'data', 400, \"adam\", 0.1)"
   ]
  },
  {
   "cell_type": "code",
   "execution_count": null,
   "metadata": {},
   "outputs": [],
   "source": []
  },
  {
   "cell_type": "code",
   "execution_count": 81,
   "metadata": {},
   "outputs": [
    {
     "name": "stdout",
     "output_type": "stream",
     "text": [
      "_________________________________________________________________\n",
      "Layer (type)                 Output Shape              Param #   \n",
      "=================================================================\n",
      "input_4 (InputLayer)         (None, 400)               0         \n",
      "_________________________________________________________________\n",
      "embedding_4 (Embedding)      (None, 400, 300)          63059100  \n",
      "_________________________________________________________________\n",
      "bidirectional_4 (Bidirection (None, 400, 120)          173280    \n",
      "_________________________________________________________________\n",
      "global_max_pooling1d_4 (Glob (None, 120)               0         \n",
      "_________________________________________________________________\n",
      "dropout_7 (Dropout)          (None, 120)               0         \n",
      "_________________________________________________________________\n",
      "dense_7 (Dense)              (None, 50)                6050      \n",
      "_________________________________________________________________\n",
      "dropout_8 (Dropout)          (None, 50)                0         \n",
      "_________________________________________________________________\n",
      "dense_8 (Dense)              (None, 1)                 51        \n",
      "=================================================================\n",
      "Total params: 63,238,481\n",
      "Trainable params: 179,381\n",
      "Non-trainable params: 63,059,100\n",
      "_________________________________________________________________\n",
      "Train on 19979 samples, validate on 2220 samples\n",
      "Epoch 1/5\n",
      "19979/19979 [==============================] - 332s 17ms/step - loss: 0.6716 - acc: 0.5853 - cosine_proximity: -0.5747 - f1: 0.7000 - val_loss: 0.6602 - val_acc: 0.6036 - val_cosine_proximity: -0.5734 - val_f1: 0.7157\n",
      "Epoch 2/5\n",
      "19979/19979 [==============================] - 336s 17ms/step - loss: 0.6578 - acc: 0.6107 - cosine_proximity: -0.5747 - f1: 0.6992 - val_loss: 0.6555 - val_acc: 0.6257 - val_cosine_proximity: -0.5734 - val_f1: 0.6901\n",
      "Epoch 3/5\n",
      "19979/19979 [==============================] - 339s 17ms/step - loss: 0.6488 - acc: 0.6256 - cosine_proximity: -0.5747 - f1: 0.7029 - val_loss: 0.6486 - val_acc: 0.6207 - val_cosine_proximity: -0.5734 - val_f1: 0.6714\n",
      "Epoch 4/5\n",
      "19979/19979 [==============================] - 338s 17ms/step - loss: 0.6359 - acc: 0.6389 - cosine_proximity: -0.5747 - f1: 0.7070 - val_loss: 0.6390 - val_acc: 0.6315 - val_cosine_proximity: -0.5734 - val_f1: 0.6808\n",
      "Epoch 5/5\n",
      "19979/19979 [==============================] - 339s 17ms/step - loss: 0.6190 - acc: 0.6583 - cosine_proximity: -0.5747 - f1: 0.7196 - val_loss: 0.6342 - val_acc: 0.6383 - val_cosine_proximity: -0.5734 - val_f1: 0.7103\n",
      "classification F score: 0.66921\n"
     ]
    }
   ],
   "source": [
    "train_lstm_rnn(5, 300, 'plain_data', 400, \"adam\", 0.1)"
   ]
  },
  {
   "cell_type": "code",
   "execution_count": 82,
   "metadata": {},
   "outputs": [
    {
     "name": "stdout",
     "output_type": "stream",
     "text": [
      "_________________________________________________________________\n",
      "Layer (type)                 Output Shape              Param #   \n",
      "=================================================================\n",
      "input_5 (InputLayer)         (None, 800)               0         \n",
      "_________________________________________________________________\n",
      "embedding_5 (Embedding)      (None, 800, 300)          83308500  \n",
      "_________________________________________________________________\n",
      "bidirectional_5 (Bidirection (None, 800, 120)          173280    \n",
      "_________________________________________________________________\n",
      "global_max_pooling1d_5 (Glob (None, 120)               0         \n",
      "_________________________________________________________________\n",
      "dropout_9 (Dropout)          (None, 120)               0         \n",
      "_________________________________________________________________\n",
      "dense_9 (Dense)              (None, 50)                6050      \n",
      "_________________________________________________________________\n",
      "dropout_10 (Dropout)         (None, 50)                0         \n",
      "_________________________________________________________________\n",
      "dense_10 (Dense)             (None, 1)                 51        \n",
      "=================================================================\n",
      "Total params: 83,487,881\n",
      "Trainable params: 179,381\n",
      "Non-trainable params: 83,308,500\n",
      "_________________________________________________________________\n",
      "Train on 19979 samples, validate on 2220 samples\n",
      "Epoch 1/5\n",
      "19979/19979 [==============================] - 685s 34ms/step - loss: 0.5541 - acc: 0.6894 - cosine_proximity: -0.5747 - f1: 0.7531 - val_loss: 0.5548 - val_acc: 0.8288 - val_cosine_proximity: -0.5734 - val_f1: 0.8672\n",
      "Epoch 2/5\n",
      "19979/19979 [==============================] - 687s 34ms/step - loss: 0.2393 - acc: 0.8786 - cosine_proximity: -0.5747 - f1: 0.8982 - val_loss: 0.1912 - val_acc: 0.8973 - val_cosine_proximity: -0.5734 - val_f1: 0.9142\n",
      "Epoch 3/5\n",
      "19979/19979 [==============================] - 687s 34ms/step - loss: 0.1915 - acc: 0.8958 - cosine_proximity: -0.5747 - f1: 0.9141 - val_loss: 0.1872 - val_acc: 0.9000 - val_cosine_proximity: -0.5734 - val_f1: 0.9181\n",
      "Epoch 4/5\n",
      "19979/19979 [==============================] - 687s 34ms/step - loss: 0.1917 - acc: 0.8955 - cosine_proximity: -0.5747 - f1: 0.9128 - val_loss: 0.1876 - val_acc: 0.9009 - val_cosine_proximity: -0.5734 - val_f1: 0.9187\n",
      "Epoch 5/5\n",
      "19979/19979 [==============================] - 687s 34ms/step - loss: 0.1856 - acc: 0.8986 - cosine_proximity: -0.5747 - f1: 0.9166 - val_loss: 0.1849 - val_acc: 0.8995 - val_cosine_proximity: -0.5734 - val_f1: 0.9177\n",
      "classification F score: 0.78281\n"
     ]
    }
   ],
   "source": [
    "train_lstm_rnn(5, 300, 'data', 800, \"adam\", 0.1)"
   ]
  },
  {
   "cell_type": "code",
   "execution_count": 83,
   "metadata": {},
   "outputs": [
    {
     "name": "stdout",
     "output_type": "stream",
     "text": [
      "_________________________________________________________________\n",
      "Layer (type)                 Output Shape              Param #   \n",
      "=================================================================\n",
      "input_6 (InputLayer)         (None, 800)               0         \n",
      "_________________________________________________________________\n",
      "embedding_6 (Embedding)      (None, 800, 300)          63059100  \n",
      "_________________________________________________________________\n",
      "bidirectional_6 (Bidirection (None, 800, 120)          173280    \n",
      "_________________________________________________________________\n",
      "global_max_pooling1d_6 (Glob (None, 120)               0         \n",
      "_________________________________________________________________\n",
      "dropout_11 (Dropout)         (None, 120)               0         \n",
      "_________________________________________________________________\n",
      "dense_11 (Dense)             (None, 50)                6050      \n",
      "_________________________________________________________________\n",
      "dropout_12 (Dropout)         (None, 50)                0         \n",
      "_________________________________________________________________\n",
      "dense_12 (Dense)             (None, 1)                 51        \n",
      "=================================================================\n",
      "Total params: 63,238,481\n",
      "Trainable params: 179,381\n",
      "Non-trainable params: 63,059,100\n",
      "_________________________________________________________________\n",
      "Train on 19979 samples, validate on 2220 samples\n",
      "Epoch 1/5\n",
      "19979/19979 [==============================] - 678s 34ms/step - loss: 0.6710 - acc: 0.5876 - cosine_proximity: -0.5747 - f1: 0.7052 - val_loss: 0.6623 - val_acc: 0.5901 - val_cosine_proximity: -0.5734 - val_f1: 0.7260\n",
      "Epoch 2/5\n",
      "19979/19979 [==============================] - 683s 34ms/step - loss: 0.6511 - acc: 0.6163 - cosine_proximity: -0.5747 - f1: 0.6965 - val_loss: 0.6409 - val_acc: 0.6338 - val_cosine_proximity: -0.5734 - val_f1: 0.7090\n",
      "Epoch 3/5\n",
      "19979/19979 [==============================] - 683s 34ms/step - loss: 0.6348 - acc: 0.6399 - cosine_proximity: -0.5747 - f1: 0.7058 - val_loss: 0.6339 - val_acc: 0.6369 - val_cosine_proximity: -0.5734 - val_f1: 0.6708\n",
      "Epoch 4/5\n",
      "19979/19979 [==============================] - 683s 34ms/step - loss: 0.6148 - acc: 0.6595 - cosine_proximity: -0.5747 - f1: 0.7142 - val_loss: 0.6133 - val_acc: 0.6599 - val_cosine_proximity: -0.5734 - val_f1: 0.7116\n",
      "Epoch 5/5\n",
      "19979/19979 [==============================] - 684s 34ms/step - loss: 0.6014 - acc: 0.6743 - cosine_proximity: -0.5747 - f1: 0.7250 - val_loss: 0.6207 - val_acc: 0.6509 - val_cosine_proximity: -0.5734 - val_f1: 0.7309\n",
      "classification F score: 0.68748\n"
     ]
    }
   ],
   "source": [
    "train_lstm_rnn(5, 300, 'plain_data', 800, \"adam\", 0.1)"
   ]
  },
  {
   "cell_type": "code",
   "execution_count": 84,
   "metadata": {},
   "outputs": [
    {
     "name": "stdout",
     "output_type": "stream",
     "text": [
      "_________________________________________________________________\n",
      "Layer (type)                 Output Shape              Param #   \n",
      "=================================================================\n",
      "input_7 (InputLayer)         (None, 800)               0         \n",
      "_________________________________________________________________\n",
      "embedding_7 (Embedding)      (None, 800, 300)          83308500  \n",
      "_________________________________________________________________\n",
      "bidirectional_7 (Bidirection (None, 800, 120)          173280    \n",
      "_________________________________________________________________\n",
      "global_max_pooling1d_7 (Glob (None, 120)               0         \n",
      "_________________________________________________________________\n",
      "dropout_13 (Dropout)         (None, 120)               0         \n",
      "_________________________________________________________________\n",
      "dense_13 (Dense)             (None, 50)                6050      \n",
      "_________________________________________________________________\n",
      "dropout_14 (Dropout)         (None, 50)                0         \n",
      "_________________________________________________________________\n",
      "dense_14 (Dense)             (None, 1)                 51        \n",
      "=================================================================\n",
      "Total params: 83,487,881\n",
      "Trainable params: 179,381\n",
      "Non-trainable params: 83,308,500\n",
      "_________________________________________________________________\n",
      "Train on 19979 samples, validate on 2220 samples\n",
      "Epoch 1/10\n",
      "19979/19979 [==============================] - 685s 34ms/step - loss: 0.3927 - acc: 0.7816 - cosine_proximity: -0.5747 - f1: 0.8311 - val_loss: 0.1816 - val_acc: 0.9108 - val_cosine_proximity: -0.5734 - val_f1: 0.9262\n",
      "Epoch 2/10\n",
      "19979/19979 [==============================] - 689s 34ms/step - loss: 0.1800 - acc: 0.9079 - cosine_proximity: -0.5747 - f1: 0.9234 - val_loss: 0.1775 - val_acc: 0.9095 - val_cosine_proximity: -0.5734 - val_f1: 0.9248\n",
      "Epoch 3/10\n",
      "19979/19979 [==============================] - 688s 34ms/step - loss: 0.1745 - acc: 0.9083 - cosine_proximity: -0.5747 - f1: 0.9236 - val_loss: 0.1768 - val_acc: 0.9104 - val_cosine_proximity: -0.5734 - val_f1: 0.9257\n",
      "Epoch 4/10\n",
      "19979/19979 [==============================] - 691s 35ms/step - loss: 0.1730 - acc: 0.9090 - cosine_proximity: -0.5747 - f1: 0.9240 - val_loss: 0.1749 - val_acc: 0.9113 - val_cosine_proximity: -0.5734 - val_f1: 0.9267\n",
      "Epoch 5/10\n",
      "19979/19979 [==============================] - 690s 35ms/step - loss: 0.1719 - acc: 0.9094 - cosine_proximity: -0.5747 - f1: 0.9248 - val_loss: 0.1754 - val_acc: 0.9113 - val_cosine_proximity: -0.5734 - val_f1: 0.9267\n",
      "Epoch 6/10\n",
      "19979/19979 [==============================] - 690s 35ms/step - loss: 0.1694 - acc: 0.9109 - cosine_proximity: -0.5747 - f1: 0.9259 - val_loss: 0.1753 - val_acc: 0.9108 - val_cosine_proximity: -0.5734 - val_f1: 0.9264\n",
      "Epoch 7/10\n",
      "19979/19979 [==============================] - 690s 35ms/step - loss: 0.1672 - acc: 0.9115 - cosine_proximity: -0.5747 - f1: 0.9260 - val_loss: 0.1765 - val_acc: 0.9104 - val_cosine_proximity: -0.5734 - val_f1: 0.9257\n",
      "Epoch 8/10\n",
      "19979/19979 [==============================] - 705s 35ms/step - loss: 0.1650 - acc: 0.9126 - cosine_proximity: -0.5747 - f1: 0.9270 - val_loss: 0.1796 - val_acc: 0.9117 - val_cosine_proximity: -0.5734 - val_f1: 0.9270\n",
      "Epoch 9/10\n",
      "19979/19979 [==============================] - 711s 36ms/step - loss: 0.1620 - acc: 0.9156 - cosine_proximity: -0.5747 - f1: 0.9282 - val_loss: 0.1831 - val_acc: 0.9108 - val_cosine_proximity: -0.5734 - val_f1: 0.9259\n",
      "Epoch 10/10\n",
      "19979/19979 [==============================] - 712s 36ms/step - loss: 0.1561 - acc: 0.9183 - cosine_proximity: -0.5747 - f1: 0.9298 - val_loss: 0.1840 - val_acc: 0.9090 - val_cosine_proximity: -0.5734 - val_f1: 0.9242\n",
      "classification F score: 0.84682\n"
     ]
    }
   ],
   "source": [
    "train_lstm_rnn(10, 300, 'data', 800, \"adam\", 0.1)"
   ]
  },
  {
   "cell_type": "code",
   "execution_count": 85,
   "metadata": {},
   "outputs": [
    {
     "name": "stdout",
     "output_type": "stream",
     "text": [
      "_________________________________________________________________\n",
      "Layer (type)                 Output Shape              Param #   \n",
      "=================================================================\n",
      "input_8 (InputLayer)         (None, 800)               0         \n",
      "_________________________________________________________________\n",
      "embedding_8 (Embedding)      (None, 800, 300)          63059100  \n",
      "_________________________________________________________________\n",
      "bidirectional_8 (Bidirection (None, 800, 120)          173280    \n",
      "_________________________________________________________________\n",
      "global_max_pooling1d_8 (Glob (None, 120)               0         \n",
      "_________________________________________________________________\n",
      "dropout_15 (Dropout)         (None, 120)               0         \n",
      "_________________________________________________________________\n",
      "dense_15 (Dense)             (None, 50)                6050      \n",
      "_________________________________________________________________\n",
      "dropout_16 (Dropout)         (None, 50)                0         \n",
      "_________________________________________________________________\n",
      "dense_16 (Dense)             (None, 1)                 51        \n",
      "=================================================================\n",
      "Total params: 63,238,481\n",
      "Trainable params: 179,381\n",
      "Non-trainable params: 63,059,100\n",
      "_________________________________________________________________\n",
      "Train on 19979 samples, validate on 2220 samples\n",
      "Epoch 1/10\n",
      "19979/19979 [==============================] - 700s 35ms/step - loss: 0.6700 - acc: 0.5886 - cosine_proximity: -0.5747 - f1: 0.7026 - val_loss: 0.6544 - val_acc: 0.6162 - val_cosine_proximity: -0.5734 - val_f1: 0.6796\n",
      "Epoch 2/10\n",
      "19979/19979 [==============================] - 701s 35ms/step - loss: 0.6530 - acc: 0.6179 - cosine_proximity: -0.5747 - f1: 0.7006 - val_loss: 0.6453 - val_acc: 0.6320 - val_cosine_proximity: -0.5734 - val_f1: 0.6941\n",
      "Epoch 3/10\n",
      "19979/19979 [==============================] - 703s 35ms/step - loss: 0.6391 - acc: 0.6328 - cosine_proximity: -0.5747 - f1: 0.7019 - val_loss: 0.6403 - val_acc: 0.6338 - val_cosine_proximity: -0.5734 - val_f1: 0.7225\n",
      "Epoch 4/10\n",
      "19979/19979 [==============================] - 702s 35ms/step - loss: 0.6246 - acc: 0.6522 - cosine_proximity: -0.5747 - f1: 0.7113 - val_loss: 0.6273 - val_acc: 0.6459 - val_cosine_proximity: -0.5734 - val_f1: 0.7165\n",
      "Epoch 5/10\n",
      "19979/19979 [==============================] - 702s 35ms/step - loss: 0.6075 - acc: 0.6690 - cosine_proximity: -0.5747 - f1: 0.7213 - val_loss: 0.6192 - val_acc: 0.6536 - val_cosine_proximity: -0.5734 - val_f1: 0.6948\n",
      "Epoch 6/10\n",
      "19979/19979 [==============================] - 701s 35ms/step - loss: 0.5892 - acc: 0.6852 - cosine_proximity: -0.5747 - f1: 0.7308 - val_loss: 0.6110 - val_acc: 0.6626 - val_cosine_proximity: -0.5734 - val_f1: 0.7118\n",
      "Epoch 7/10\n",
      "19979/19979 [==============================] - 702s 35ms/step - loss: 0.5718 - acc: 0.7013 - cosine_proximity: -0.5747 - f1: 0.7425 - val_loss: 0.6094 - val_acc: 0.6613 - val_cosine_proximity: -0.5734 - val_f1: 0.7066\n",
      "Epoch 8/10\n",
      "19979/19979 [==============================] - 699s 35ms/step - loss: 0.5530 - acc: 0.7177 - cosine_proximity: -0.5747 - f1: 0.7577 - val_loss: 0.6240 - val_acc: 0.6572 - val_cosine_proximity: -0.5734 - val_f1: 0.6830\n",
      "Epoch 9/10\n",
      "19979/19979 [==============================] - 699s 35ms/step - loss: 0.5339 - acc: 0.7332 - cosine_proximity: -0.5747 - f1: 0.7698 - val_loss: 0.6151 - val_acc: 0.6698 - val_cosine_proximity: -0.5734 - val_f1: 0.6932\n",
      "Epoch 10/10\n",
      "19979/19979 [==============================] - 826s 41ms/step - loss: 0.5159 - acc: 0.7445 - cosine_proximity: -0.5747 - f1: 0.7777 - val_loss: 0.6270 - val_acc: 0.6581 - val_cosine_proximity: -0.5734 - val_f1: 0.6733\n",
      "classification F score: 0.68776\n"
     ]
    }
   ],
   "source": [
    "train_lstm_rnn(10, 300, 'plain_data', 800, \"adam\", 0.1)"
   ]
  },
  {
   "cell_type": "code",
   "execution_count": 86,
   "metadata": {},
   "outputs": [
    {
     "name": "stdout",
     "output_type": "stream",
     "text": [
      "_________________________________________________________________\n",
      "Layer (type)                 Output Shape              Param #   \n",
      "=================================================================\n",
      "input_9 (InputLayer)         (None, 400)               0         \n",
      "_________________________________________________________________\n",
      "embedding_9 (Embedding)      (None, 400, 300)          83308500  \n",
      "_________________________________________________________________\n",
      "bidirectional_9 (Bidirection (None, 400, 120)          173280    \n",
      "_________________________________________________________________\n",
      "global_max_pooling1d_9 (Glob (None, 120)               0         \n",
      "_________________________________________________________________\n",
      "dropout_17 (Dropout)         (None, 120)               0         \n",
      "_________________________________________________________________\n",
      "dense_17 (Dense)             (None, 50)                6050      \n",
      "_________________________________________________________________\n",
      "dropout_18 (Dropout)         (None, 50)                0         \n",
      "_________________________________________________________________\n",
      "dense_18 (Dense)             (None, 1)                 51        \n",
      "=================================================================\n",
      "Total params: 83,487,881\n",
      "Trainable params: 179,381\n",
      "Non-trainable params: 83,308,500\n",
      "_________________________________________________________________\n",
      "Train on 19979 samples, validate on 2220 samples\n",
      "Epoch 1/15\n",
      "19979/19979 [==============================] - 456s 23ms/step - loss: 0.5622 - acc: 0.6709 - cosine_proximity: -0.5747 - f1: 0.7560 - val_loss: 0.4842 - val_acc: 0.7153 - val_cosine_proximity: -0.5734 - val_f1: 0.7969\n",
      "Epoch 2/15\n",
      "19979/19979 [==============================] - 472s 24ms/step - loss: 0.4765 - acc: 0.7210 - cosine_proximity: -0.5747 - f1: 0.7933 - val_loss: 0.4826 - val_acc: 0.7171 - val_cosine_proximity: -0.5734 - val_f1: 0.7988\n",
      "Epoch 3/15\n",
      "19979/19979 [==============================] - 442s 22ms/step - loss: 0.4734 - acc: 0.7223 - cosine_proximity: -0.5747 - f1: 0.7962 - val_loss: 0.4839 - val_acc: 0.7171 - val_cosine_proximity: -0.5734 - val_f1: 0.7988\n",
      "Epoch 4/15\n",
      "19979/19979 [==============================] - 450s 23ms/step - loss: 0.4708 - acc: 0.7229 - cosine_proximity: -0.5747 - f1: 0.7971 - val_loss: 0.4788 - val_acc: 0.7162 - val_cosine_proximity: -0.5734 - val_f1: 0.7970\n",
      "Epoch 5/15\n",
      "19979/19979 [==============================] - 449s 22ms/step - loss: 0.4686 - acc: 0.7280 - cosine_proximity: -0.5747 - f1: 0.7987 - val_loss: 0.4777 - val_acc: 0.7050 - val_cosine_proximity: -0.5734 - val_f1: 0.7679\n",
      "Epoch 6/15\n",
      "19979/19979 [==============================] - 448s 22ms/step - loss: 0.4661 - acc: 0.7290 - cosine_proximity: -0.5747 - f1: 0.7936 - val_loss: 0.4743 - val_acc: 0.7234 - val_cosine_proximity: -0.5734 - val_f1: 0.7983\n",
      "Epoch 7/15\n",
      "19979/19979 [==============================] - 450s 23ms/step - loss: 0.4618 - acc: 0.7346 - cosine_proximity: -0.5747 - f1: 0.7970 - val_loss: 0.4744 - val_acc: 0.7158 - val_cosine_proximity: -0.5734 - val_f1: 0.7868\n",
      "Epoch 8/15\n",
      "19979/19979 [==============================] - 448s 22ms/step - loss: 0.4567 - acc: 0.7407 - cosine_proximity: -0.5747 - f1: 0.7990 - val_loss: 0.4715 - val_acc: 0.7243 - val_cosine_proximity: -0.5734 - val_f1: 0.7868\n",
      "Epoch 9/15\n",
      "19979/19979 [==============================] - 449s 22ms/step - loss: 0.4500 - acc: 0.7498 - cosine_proximity: -0.5747 - f1: 0.8005 - val_loss: 0.4807 - val_acc: 0.6991 - val_cosine_proximity: -0.5734 - val_f1: 0.7368\n",
      "Epoch 10/15\n",
      "19979/19979 [==============================] - 450s 23ms/step - loss: 0.4410 - acc: 0.7602 - cosine_proximity: -0.5747 - f1: 0.8079 - val_loss: 0.4785 - val_acc: 0.7000 - val_cosine_proximity: -0.5734 - val_f1: 0.7370\n",
      "Epoch 11/15\n",
      "19979/19979 [==============================] - 449s 22ms/step - loss: 0.4297 - acc: 0.7715 - cosine_proximity: -0.5747 - f1: 0.8136 - val_loss: 0.4746 - val_acc: 0.7360 - val_cosine_proximity: -0.5734 - val_f1: 0.8053\n",
      "Epoch 12/15\n",
      "19979/19979 [==============================] - 449s 22ms/step - loss: 0.4146 - acc: 0.7830 - cosine_proximity: -0.5747 - f1: 0.8204 - val_loss: 0.4698 - val_acc: 0.7347 - val_cosine_proximity: -0.5734 - val_f1: 0.7942\n",
      "Epoch 13/15\n",
      "19979/19979 [==============================] - 448s 22ms/step - loss: 0.4019 - acc: 0.7942 - cosine_proximity: -0.5747 - f1: 0.8281 - val_loss: 0.5000 - val_acc: 0.6887 - val_cosine_proximity: -0.5734 - val_f1: 0.7156\n",
      "Epoch 14/15\n",
      "19979/19979 [==============================] - 450s 23ms/step - loss: 0.3864 - acc: 0.8058 - cosine_proximity: -0.5747 - f1: 0.8355 - val_loss: 0.5005 - val_acc: 0.7027 - val_cosine_proximity: -0.5734 - val_f1: 0.7354\n",
      "Epoch 15/15\n",
      "19979/19979 [==============================] - 450s 23ms/step - loss: 0.3643 - acc: 0.8225 - cosine_proximity: -0.5747 - f1: 0.8489 - val_loss: 0.4979 - val_acc: 0.7077 - val_cosine_proximity: -0.5734 - val_f1: 0.7469\n",
      "classification F score: 0.71462\n"
     ]
    }
   ],
   "source": [
    "train_lstm_rnn(15, 300, 'data', 400, \"adam\", 0.05)"
   ]
  },
  {
   "cell_type": "code",
   "execution_count": 87,
   "metadata": {},
   "outputs": [
    {
     "name": "stdout",
     "output_type": "stream",
     "text": [
      "_________________________________________________________________\n",
      "Layer (type)                 Output Shape              Param #   \n",
      "=================================================================\n",
      "input_10 (InputLayer)        (None, 400)               0         \n",
      "_________________________________________________________________\n",
      "embedding_10 (Embedding)     (None, 400, 300)          63059100  \n",
      "_________________________________________________________________\n",
      "bidirectional_10 (Bidirectio (None, 400, 120)          173280    \n",
      "_________________________________________________________________\n",
      "global_max_pooling1d_10 (Glo (None, 120)               0         \n",
      "_________________________________________________________________\n",
      "dropout_19 (Dropout)         (None, 120)               0         \n",
      "_________________________________________________________________\n",
      "dense_19 (Dense)             (None, 50)                6050      \n",
      "_________________________________________________________________\n",
      "dropout_20 (Dropout)         (None, 50)                0         \n",
      "_________________________________________________________________\n",
      "dense_20 (Dense)             (None, 1)                 51        \n",
      "=================================================================\n",
      "Total params: 63,238,481\n",
      "Trainable params: 179,381\n",
      "Non-trainable params: 63,059,100\n",
      "_________________________________________________________________\n",
      "Train on 19979 samples, validate on 2220 samples\n",
      "Epoch 1/15\n",
      "19979/19979 [==============================] - 363s 18ms/step - loss: 0.6679 - acc: 0.5939 - cosine_proximity: -0.5747 - f1: 0.7005 - val_loss: 0.6581 - val_acc: 0.6068 - val_cosine_proximity: -0.5734 - val_f1: 0.7198\n",
      "Epoch 2/15\n",
      "19979/19979 [==============================] - 470s 24ms/step - loss: 0.6538 - acc: 0.6174 - cosine_proximity: -0.5747 - f1: 0.7004 - val_loss: 0.6484 - val_acc: 0.6261 - val_cosine_proximity: -0.5734 - val_f1: 0.7164\n",
      "Epoch 3/15\n",
      "19979/19979 [==============================] - 454s 23ms/step - loss: 0.6406 - acc: 0.6383 - cosine_proximity: -0.5747 - f1: 0.7102 - val_loss: 0.6419 - val_acc: 0.6360 - val_cosine_proximity: -0.5734 - val_f1: 0.6832\n",
      "Epoch 4/15\n",
      "19979/19979 [==============================] - 458s 23ms/step - loss: 0.6151 - acc: 0.6653 - cosine_proximity: -0.5747 - f1: 0.7260 - val_loss: 0.6591 - val_acc: 0.6086 - val_cosine_proximity: -0.5734 - val_f1: 0.5903\n",
      "Epoch 5/15\n",
      "19979/19979 [==============================] - 457s 23ms/step - loss: 0.5944 - acc: 0.6832 - cosine_proximity: -0.5747 - f1: 0.7356 - val_loss: 0.6279 - val_acc: 0.6405 - val_cosine_proximity: -0.5734 - val_f1: 0.6996\n",
      "Epoch 6/15\n",
      "19979/19979 [==============================] - 458s 23ms/step - loss: 0.5670 - acc: 0.7068 - cosine_proximity: -0.5747 - f1: 0.7512 - val_loss: 0.6465 - val_acc: 0.6383 - val_cosine_proximity: -0.5734 - val_f1: 0.6482\n",
      "Epoch 7/15\n",
      "19979/19979 [==============================] - 458s 23ms/step - loss: 0.5364 - acc: 0.7288 - cosine_proximity: -0.5747 - f1: 0.7678 - val_loss: 0.6360 - val_acc: 0.6414 - val_cosine_proximity: -0.5734 - val_f1: 0.7041\n",
      "Epoch 8/15\n",
      "19979/19979 [==============================] - 461s 23ms/step - loss: 0.5106 - acc: 0.7483 - cosine_proximity: -0.5747 - f1: 0.7823 - val_loss: 0.6575 - val_acc: 0.6405 - val_cosine_proximity: -0.5734 - val_f1: 0.6978\n",
      "Epoch 9/15\n",
      "19979/19979 [==============================] - 458s 23ms/step - loss: 0.4779 - acc: 0.7719 - cosine_proximity: -0.5747 - f1: 0.8011 - val_loss: 0.6834 - val_acc: 0.6234 - val_cosine_proximity: -0.5734 - val_f1: 0.6373\n",
      "Epoch 10/15\n",
      "19979/19979 [==============================] - 458s 23ms/step - loss: 0.4490 - acc: 0.7906 - cosine_proximity: -0.5747 - f1: 0.8174 - val_loss: 0.6888 - val_acc: 0.6405 - val_cosine_proximity: -0.5734 - val_f1: 0.7002\n",
      "Epoch 11/15\n",
      "19979/19979 [==============================] - 459s 23ms/step - loss: 0.4150 - acc: 0.8112 - cosine_proximity: -0.5747 - f1: 0.8347 - val_loss: 0.7108 - val_acc: 0.6351 - val_cosine_proximity: -0.5734 - val_f1: 0.6891\n",
      "Epoch 12/15\n",
      "19979/19979 [==============================] - 461s 23ms/step - loss: 0.3891 - acc: 0.8243 - cosine_proximity: -0.5747 - f1: 0.8458 - val_loss: 0.7437 - val_acc: 0.6360 - val_cosine_proximity: -0.5734 - val_f1: 0.6755\n",
      "Epoch 13/15\n",
      "19979/19979 [==============================] - 442s 22ms/step - loss: 0.3621 - acc: 0.8373 - cosine_proximity: -0.5747 - f1: 0.8562 - val_loss: 0.7825 - val_acc: 0.6378 - val_cosine_proximity: -0.5734 - val_f1: 0.7094\n",
      "Epoch 14/15\n",
      "19979/19979 [==============================] - 444s 22ms/step - loss: 0.3476 - acc: 0.8466 - cosine_proximity: -0.5747 - f1: 0.8644 - val_loss: 0.8376 - val_acc: 0.6279 - val_cosine_proximity: -0.5734 - val_f1: 0.7140\n",
      "Epoch 15/15\n",
      "19979/19979 [==============================] - 444s 22ms/step - loss: 0.3245 - acc: 0.8610 - cosine_proximity: -0.5747 - f1: 0.8774 - val_loss: 0.8098 - val_acc: 0.6324 - val_cosine_proximity: -0.5734 - val_f1: 0.6978\n",
      "classification F score: 0.67390\n"
     ]
    }
   ],
   "source": [
    "train_lstm_rnn(15, 300, 'plain_data', 400, \"adam\", 0.05)"
   ]
  },
  {
   "cell_type": "code",
   "execution_count": 88,
   "metadata": {},
   "outputs": [
    {
     "data": {
      "text/plain": [
       "[{'accuracy': 0.736418,\n",
       "  'name': 'TFIDF HTML - Predict Stay at Job',\n",
       "  'log_loss': 0.546574},\n",
       " {'accuracy': 0.736418,\n",
       "  'name': 'TFIDF HTML - Predict Stay at Job',\n",
       "  'log_loss': 0.546574},\n",
       " {'accuracy': 0.650149,\n",
       "  'name': 'TFIDF Plain Text - Predict Stay at Job',\n",
       "  'log_loss': 0.626319},\n",
       " {'accuracy': 0.571538,\n",
       "  'name': 'TFIDF HTML NB - Predict Stay at Job',\n",
       "  'log_loss': 1.20385},\n",
       " {'accuracy': 0.583206,\n",
       "  'name': 'TFIDF Plain NB - Predict Stay at Job',\n",
       "  'log_loss': 0.900991},\n",
       " {'accuracy': 0.651815,\n",
       "  'name': 'TFIDF Plain Log Pipeline [*all] - Predict Stay at Job',\n",
       "  'log_loss': 0.626182},\n",
       " {'accuracy': 0.722227,\n",
       "  'name': 'TFIDF HTML Log Pipeline [*all] - Predict Stay at Job',\n",
       "  'log_loss': 0.566294},\n",
       " {'F1 accuracy': 0.7171775177661333,\n",
       "  'name': 'LSTM: CO:400, E:5, data, adam - Predict Stay at Job'},\n",
       " {'F1 accuracy': 0.6692061666726561,\n",
       "  'name': 'LSTM: CO:400, E:5, plain_data, adam - Predict Stay at Job'},\n",
       " {'F1 accuracy': 0.7828112680094617,\n",
       "  'name': 'LSTM: CO:800, E:5, data, adam - Predict Stay at Job'},\n",
       " {'F1 accuracy': 0.6874821173104435,\n",
       "  'name': 'LSTM: CO:800, E:5, plain_data, adam - Predict Stay at Job'},\n",
       " {'F1 accuracy': 0.8468235614202149,\n",
       "  'name': 'LSTM: CO:800, E:10, data, adam - Predict Stay at Job'},\n",
       " {'F1 accuracy': 0.6877575149582602,\n",
       "  'name': 'LSTM: CO:800, E:10, plain_data, adam - Predict Stay at Job'},\n",
       " {'F1 accuracy': 0.7146184998028886,\n",
       "  'name': 'LSTM: CO:400, E:15, data, adam - Predict Stay at Job'},\n",
       " {'F1 accuracy': 0.6739021419872484,\n",
       "  'name': 'LSTM: CO:400, E:15, plain_data, adam - Predict Stay at Job'}]"
      ]
     },
     "execution_count": 88,
     "metadata": {},
     "output_type": "execute_result"
    }
   ],
   "source": [
    "model_results\n"
   ]
  },
  {
   "cell_type": "code",
   "execution_count": 89,
   "metadata": {},
   "outputs": [
    {
     "data": {
      "text/plain": [
       "{'CO:400, E:5, data, adam': array([[0.58],\n",
       "        [0.7 ],\n",
       "        [1.  ],\n",
       "        ...,\n",
       "        [0.  ],\n",
       "        [0.64],\n",
       "        [0.63]], dtype=float32),\n",
       " 'CO:400, E:5, plain_data, adam': array([[0.48],\n",
       "        [0.81],\n",
       "        [0.61],\n",
       "        ...,\n",
       "        [0.54],\n",
       "        [0.6 ],\n",
       "        [0.59]], dtype=float32),\n",
       " 'CO:800, E:5, data, adam': array([[6.44e-01],\n",
       "        [7.09e-01],\n",
       "        [1.00e+00],\n",
       "        ...,\n",
       "        [1.36e-05],\n",
       "        [6.39e-01],\n",
       "        [1.00e+00]], dtype=float32),\n",
       " 'CO:800, E:5, plain_data, adam': array([[0.36],\n",
       "        [0.91],\n",
       "        [0.8 ],\n",
       "        ...,\n",
       "        [0.76],\n",
       "        [0.6 ],\n",
       "        [0.76]], dtype=float32),\n",
       " 'CO:800, E:10, data, adam': array([[4.36e-01],\n",
       "        [8.89e-01],\n",
       "        [1.00e+00],\n",
       "        ...,\n",
       "        [4.13e-08],\n",
       "        [7.53e-01],\n",
       "        [1.00e+00]], dtype=float32),\n",
       " 'CO:800, E:10, plain_data, adam': array([[0.22],\n",
       "        [0.88],\n",
       "        [0.62],\n",
       "        ...,\n",
       "        [0.2 ],\n",
       "        [0.4 ],\n",
       "        [0.59]], dtype=float32),\n",
       " 'CO:400, E:15, data, adam': array([[0.29],\n",
       "        [0.48],\n",
       "        [1.  ],\n",
       "        ...,\n",
       "        [0.03],\n",
       "        [0.71],\n",
       "        [0.74]], dtype=float32),\n",
       " 'CO:400, E:15, plain_data, adam': array([[0.73],\n",
       "        [0.92],\n",
       "        [0.54],\n",
       "        ...,\n",
       "        [0.96],\n",
       "        [0.39],\n",
       "        [0.98]], dtype=float32)}"
      ]
     },
     "execution_count": 89,
     "metadata": {},
     "output_type": "execute_result"
    }
   ],
   "source": [
    "model_predictions"
   ]
  },
  {
   "cell_type": "code",
   "execution_count": 106,
   "metadata": {},
   "outputs": [],
   "source": [
    "def score_accuracy(pred, actual):\n",
    "    total = 0.0\n",
    "    correct = 0.0\n",
    "    for index, value in enumerate(pred):\n",
    "        if (actual[index] == round(value[0])):\n",
    "            correct += 1\n",
    "        total += 1\n",
    "    return correct / total"
   ]
  },
  {
   "cell_type": "code",
   "execution_count": 107,
   "metadata": {},
   "outputs": [
    {
     "name": "stdout",
     "output_type": "stream",
     "text": [
      "16322.0\n",
      "22198.0\n",
      "CO:400, E:5, data, adam score: 0.7352914676997928\n",
      "14238.0\n",
      "22198.0\n",
      "CO:400, E:5, plain_data, adam score: 0.6414091359581945\n",
      "19932.0\n",
      "22198.0\n",
      "CO:800, E:5, data, adam score: 0.8979187314172448\n",
      "14557.0\n",
      "22198.0\n",
      "CO:800, E:5, plain_data, adam score: 0.6557797999819803\n",
      "20112.0\n",
      "22198.0\n",
      "CO:800, E:10, data, adam score: 0.9060275700513559\n",
      "14633.0\n",
      "22198.0\n",
      "CO:800, E:10, plain_data, adam score: 0.6592035318497161\n",
      "15603.0\n",
      "22198.0\n",
      "CO:400, E:15, data, adam score: 0.7029011622668709\n",
      "14097.0\n",
      "22198.0\n",
      "CO:400, E:15, plain_data, adam score: 0.635057212361474\n"
     ]
    }
   ],
   "source": [
    "for index in model_predictions:\n",
    "    score = score_accuracy(model_predictions[index], predictors_test['work_stayed'].astype(int))\n",
    "    print(str(index) + \" score: \" + str(score))"
   ]
  },
  {
   "cell_type": "code",
   "execution_count": null,
   "metadata": {},
   "outputs": [],
   "source": []
  }
 ],
 "metadata": {
  "kernelspec": {
   "display_name": "Python 3",
   "language": "python",
   "name": "python3"
  },
  "language_info": {
   "codemirror_mode": {
    "name": "ipython",
    "version": 3
   },
   "file_extension": ".py",
   "mimetype": "text/x-python",
   "name": "python",
   "nbconvert_exporter": "python",
   "pygments_lexer": "ipython3",
   "version": "3.6.5"
  }
 },
 "nbformat": 4,
 "nbformat_minor": 2
}
